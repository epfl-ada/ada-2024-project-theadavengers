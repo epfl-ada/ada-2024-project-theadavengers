{
 "cells": [
  {
   "cell_type": "markdown",
   "metadata": {},
   "source": [
    "# Feminism \n",
    "\n",
    "https://medium.com/aimonks/building-a-simple-text-classifier-using-large-language-models-1a6acadcee7d"
   ]
  },
  {
   "cell_type": "code",
   "execution_count": 1,
   "metadata": {},
   "outputs": [
    {
     "ename": "ModuleNotFoundError",
     "evalue": "No module named 'helpers'",
     "output_type": "error",
     "traceback": [
      "\u001b[0;31m---------------------------------------------------------------------------\u001b[0m",
      "\u001b[0;31mModuleNotFoundError\u001b[0m                       Traceback (most recent call last)",
      "Cell \u001b[0;32mIn[1], line 1\u001b[0m\n\u001b[0;32m----> 1\u001b[0m \u001b[38;5;28;01mfrom\u001b[39;00m \u001b[38;5;21;01mhelpers\u001b[39;00m \u001b[38;5;28;01mimport\u001b[39;00m \u001b[38;5;241m*\u001b[39m\n\u001b[1;32m      2\u001b[0m \u001b[38;5;28;01mimport\u001b[39;00m \u001b[38;5;21;01mpandas\u001b[39;00m \u001b[38;5;28;01mas\u001b[39;00m \u001b[38;5;21;01mpd\u001b[39;00m\n\u001b[1;32m      3\u001b[0m \u001b[38;5;28;01mimport\u001b[39;00m \u001b[38;5;21;01mmatplotlib\u001b[39;00m\u001b[38;5;21;01m.\u001b[39;00m\u001b[38;5;21;01mpyplot\u001b[39;00m \u001b[38;5;28;01mas\u001b[39;00m \u001b[38;5;21;01mplt\u001b[39;00m\n",
      "\u001b[0;31mModuleNotFoundError\u001b[0m: No module named 'helpers'"
     ]
    }
   ],
   "source": [
    "from helpers import *\n",
    "import pandas as pd\n",
    "import matplotlib.pyplot as plt\n",
    "from collections import Counter\n",
    " \n",
    "# Just fill this with wherever is your main data folder is (copy the path just before 'MovieSummaries'):\n",
    "file_source = '/Volumes/LaCie/ADA/2024/Projet/'\n",
    "#\"/Users/Mathieu/Documents/Docs epfl/Semester3/Advanced Data Analysis (ADA)/Test VSCode/ada-2024-project-theadavengers 2/\"\n",
    "\n",
    "# Same goes for the reviews dataset : but simply copy the entire path of where your reviews data is... \n",
    "reviews_path = '/Users/shrinidhivelan/Downloads/TMDB_movie_dataset_v11.csv'\n",
    "#\"/Users/Mathieu/Downloads/reviews dataset/TMDB_movie_dataset_v11.csv\"\n",
    "\n",
    "# replace the following by the direct path of where  [(2) bechdel test dataset] your bechdel test movie data is:\n",
    "bechdel_path = '/Users/shrinidhivelan/Desktop/DATA ADA Projet/movies.csv'#'/Users/shrinidhivelan/Downloads/movies.csv'\n",
    "#\"/Users/Mathieu/Downloads/movies.csv\"\n",
    "\n",
    "# replace the following by the direct path of where  [(1) feminism dataset] your bechdel test movie data is:\n",
    "bechdel_path2 = \"/Users/shrinidhivelan/Desktop/DATA ADA Projet/(1) Feminism/movies.csv\"\n",
    "\n",
    "### creating dataset by extracting the main CMU data ###\n",
    "MovieMetadata_df, CharacterMetadata_df, names_df, plot_summaries_df, tvTropes_df, merged_Movie = create_datasets(file_source, reviews_path)\n",
    "\n",
    "reviews = pd.read_csv(reviews_path)\n",
    "\n",
    "MovieMetadata_df['Country dictionnaire'] = MovieMetadata_df['Movie countries (Freebase ID:name tuples)'].apply(ast.literal_eval)\n",
    "MovieMetadata_df['Genre dictionnaire'] = MovieMetadata_df['Movie genres (Freebase ID:name tuples)'].apply(ast.literal_eval)\n",
    "MovieMetadata_df['Language dictionnaire'] = MovieMetadata_df['Movie languages (Freebase ID:name tuples)'].apply(ast.literal_eval)\n",
    "\n",
    "\n",
    "### Merge the movie summaries with movie names \n",
    "\n",
    "movie_names_summaries_df = pd.merge(plot_summaries_df, MovieMetadata_df, on='Wikipedia movie ID', how='left')\n",
    "movie_names_character_df = pd.merge(CharacterMetadata_df, MovieMetadata_df, on='Wikipedia movie ID', how='left')\n",
    "\n",
    "\n",
    "### Bechdel data - the scores of the bechdel tests\n",
    "bechdel_2= pd.read_csv(bechdel_path2)\n",
    "Movie_data_bechdel_notation_df = pd.merge(MovieMetadata_df, bechdel_2[[\"title\", \"year\", \"bt_score\"]], left_on=\"Movie name\", right_on=\"title\", how=\"inner\")\n",
    "\n",
    "\n",
    "### Data to do labels for model (using texts):\n",
    "summaries_bechdel_movies_df = pd.merge(plot_summaries_df, Movie_data_bechdel_notation_df, on='Wikipedia movie ID', how='inner')\n",
    "summaries_label = summaries_bechdel_movies_df[['Summaries', 'Movie name', 'bt_score']]\n"
   ]
  },
  {
   "cell_type": "code",
   "execution_count": 2,
   "metadata": {},
   "outputs": [],
   "source": [
    "feminism_indicator = summaries_label.copy()\n",
    "feminism_indicator['feminism'] = feminism_indicator['bt_score'].apply(lambda x: 1 if x == 3 else 0)"
   ]
  },
  {
   "cell_type": "code",
   "execution_count": 3,
   "metadata": {},
   "outputs": [
    {
     "name": "stdout",
     "output_type": "stream",
     "text": [
      "Dataset({\n",
      "    features: ['Summaries', 'feminism'],\n",
      "    num_rows: 5989\n",
      "})\n"
     ]
    }
   ],
   "source": [
    "from datasets import Dataset\n",
    "\n",
    "# Create a dictionary from your DataFrame\n",
    "data_dict = {\n",
    "    'Summaries': feminism_indicator['Summaries'].tolist(),\n",
    "    'feminism': feminism_indicator['feminism'].tolist()\n",
    "}\n",
    "\n",
    "# Create a dataset from the dictionary\n",
    "dataset = Dataset.from_dict(data_dict)\n",
    "\n",
    "# Check the dataset\n",
    "print(dataset)"
   ]
  },
  {
   "cell_type": "code",
   "execution_count": 4,
   "metadata": {},
   "outputs": [],
   "source": [
    "# Splitting into train and test sets\n",
    "dataset = dataset.train_test_split(test_size=0.2, seed=42)\n",
    "train_dataset = dataset['train']\n",
    "test_dataset = dataset['test']"
   ]
  },
  {
   "cell_type": "code",
   "execution_count": 5,
   "metadata": {},
   "outputs": [
    {
     "name": "stdout",
     "output_type": "stream",
     "text": [
      "Training samples: 4791\n",
      "Testing samples: 1198\n",
      "{'Summaries': '{{Overly detailed}} Snow White\\'s mother died in child birth, and her father, the King , marries Clementianna , the most beautiful woman in the land and raises Snow White. One day, the king leaves to fight a great evil that has invaded the land but never returns. He leaves Snow White a golden dagger as a parting gift. Queen Clementianna rules in his absence and deciding that \"snow must do what snow does best, snow must fall,\" she locks her in the palace. Ten years later Snow White  has just turned eighteen and while Queen Clementianna does not care for her, the palace staff loves her, especially the baker Margaret . Margaret tells Snow White that the kingdom is rightfully hers and that she should go outside and see what has become of her people. Snow White then defies the Queen\\'s orders and leaves the palace, intent on seeing the conditions of her kingdom. In the forest, she meets Prince Andrew Alcott  and his companion Charles Renbock  who have been robbed by thieving dwarfs. She and the Prince are drawn to each other but go their separate ways. Snow White arrives in the town the palace overlooks, and discovers it is barren and the once-happy people are destitute due to Queen Clementianna\\'s greed. Angered that the Queen has destroyed everything her father worked for, Snow White decides to overthrow her stepmother. Prince Alcott finds his way to the palace. Queen Clementianna, realizing he comes from a wealthy kingdom, throws a ball to woo the Prince and get him to marry her so she can solve her financial problems. Snow White secretly attends the ball planning to ask the prince, whom she believes she has not met, to help her restore the kingdom. She and Alcott learn the truth about each other when they are partnered in a dance. However Queen Clementianna notices them dancing and seizes Snow White, who finally stands up to her stepmother, telling her she has no right to rule as she does. Seeing Snow White as the threat she always feared she would be, Queen Clementianna orders her manservant Brighton  to take the princess into the forest and feed her to the Beast that lives there. Brighton takes Snow White to the forest, but is unable to kill her. He releases her and tells her to run. Snow White flees the Beast  and collapses at the door to the Seven Dwarfs\\' house. Queen Clementianna goes to her Magic Mirror, a portal to a bleak and barren world that contains a house full of mirrors. Within the mirrors lives Queen Clementianna\\'s reflection  who is much wiser, kinder, and somewhat younger than her. The Queen requests a love potion so she can make the Prince fall in love with her. The Mirror Queen repeatedly warns Queen Clementianna that there is a price for using dark magic, but she refuses to listen. Back in the forest, Snow White wakes up to find herself surrounded by the dwarfs Grimm , Butcher , Wolf , Napoleon , Half Pint , Grub , and Chuck . After much debate, they agree to let her stay with them for one night. Queen Clementianna levies another tax against the people to pay for the parties she throws for Prince Alcott even though the town magistrate says that the people cannot tolerate much more. Brighton collects the taxes, but on the way back to the palace, the dwarfs rob Brighton and steal the money. When Snow White finds out that the Dwarfs are thieves and that the stolen money belongs to the townspeople, she is angry. The Dwarfs explain that no one stood up for them years earlier when the Queen expelled them from the kingdom because she thought they were ugly. Snow White sneaks away while they are distracted to return the money. The townspeople are overjoyed to have their money back and Snow White lets the Dwarfs take credit for it, earning them the people\\'s acceptance and gratitude. The Dwarfs agree that Snow White can stay permanently if she agrees to become a thief like them. She agrees, but only if they can steal from Queen Clementianna and give back to the people. Meanwhile, Queen Clementianna informs Alcott that Snow White is dead and attempts to get him to marry her only to be interrupted by Brighton. When the Prince finds out that the bandits have robbed Brighton, he goes after them unaware of the awful things the Queen has done. In the forest, Alcott discovers that Snow White is not only alive, but in league with the bandits. Each believing the other to be in the wrong, Snow White and Alcott duel. Alcott returns to the Palace defeated and informs the Queen that Snow White is alive and in league with the bandits that stole her money. Queen Clementianna consults her Magic Mirror again and demands that the Mirror Queen punish Brighton for lying to her. The Mirror Queen turns Brighton into a cockroach and Clementianna tells the Mirror Queen to use its magic to kill Snow White. Despite the Mirror\\'s warning about using dark magic, she agrees to accept whatever consequences her actions may bring. It is revealed that the Queen used a love potion to make Snow White\\'s father fall in love with her. However the potion she uses on the Prince turns out to be a \\'puppy love\\' potion and the Prince becomes utterly devoted to her. She uses the Prince\\'s new found devotion to get him to agree to marry her. When Snow White learns of the wedding, she is heartbroken. Queen Clementianna then uses dark magic to create two giant wooden puppets in the forest and uses them to try and kill Snow White and the Dwarfs. Snow White is able to cut the strings of the puppets and break the mirror\\'s spell, but she decides to run away to protect her new friends. The next morning, the Dwarfs find her gone and discover a note she left them telling them that she loves them all. They intercept her just as she is preparing to leave and convinces her that their lives are better with her. They decide to crash the royal wedding, and do so, robbing the noble guests of their clothes and valuables. Queen Clementianna arrives at her wedding in the middle of the chaos and discover the Prince has been captured by Snow White. Back in the forest, the Prince  wishes to be with the Queen. The Dwarfs and Snow White come to the conclusion that they have to use true love\\'s kiss, which will break any spell. Snow White kisses Alcott and the spell is broken. Queen Clementianna arrives in the forest intent on killing Snow White herself. She reveals that she can control the Beast that has been plaguing the forest and sends it after Snow White. Snow White fights the Beast with help from the Dwarves and the Prince, but all are soon overcome. As the Beast is about to deliver the killing blow, it hesitates and Snow White sees that it wears a necklace with a moon charm on it similar to the one the Queen wears. She cuts the chain with her father\\'s dagger and the Beast suddenly becomes engulfed in light. In the Mirror House, Queen Clementianna is gloating, but suddenly realizes something is wrong. She begins to age and the Mirror Queen Clementianna tells her that this is her consequence for using dark magic. The Beast turns out to be Snow White\\'s father who has no memory of the last ten years. Grateful to Alcott for his assistance, he agrees to let him marry Snow White. During the wedding celebration, a crone in a hooded robe appears and offers Snow White an apple  as a wedding gift. Learning that the crone is what has become of Clementianna, Snow White cuts a piece of the apple, offers it to Clementianna, and remarks it is time to accept that she has been beaten . Accepting defeat, Clementianna eats the apple. The Mirror House is subsequently destroyed as the Mirror Queen declared that it was Snow White\\'s story all along. The film\\'s epilogue reveals what happened to the Dwarfs: Grimm writes a book of fairy tales, Napoleon becomes a hairdresser, Wolf rejoins his pack, Half-Pint finds a girlfriend, Grub just eats, Butcher becomes a flyweight champion, and Chuck joins the royal circus.', 'feminism': 1}\n"
     ]
    }
   ],
   "source": [
    "print(f\"Training samples: {len(train_dataset)}\")\n",
    "print(f\"Testing samples: {len(test_dataset)}\")\n",
    "\n",
    "# Sample data\n",
    "print(train_dataset[0])"
   ]
  },
  {
   "cell_type": "code",
   "execution_count": null,
   "metadata": {},
   "outputs": [],
   "source": [
    "from transformers import GPT2Tokenizer\n",
    "\n",
    "tokenizer = GPT2Tokenizer.from_pretrained('gpt2')\n",
    "tokenizer.pad_token = tokenizer.eos_token  # GPT2 does not have a pad token by default\n",
    "\n",
    "def tokenize(batch):\n",
    "    return tokenizer(batch['Summaries'], padding=True, truncation=True, max_length=128)"
   ]
  },
  {
   "cell_type": "code",
   "execution_count": 7,
   "metadata": {},
   "outputs": [],
   "source": [
    "def tokenize(batch):\n",
    "    return tokenizer(batch['Summaries'], padding=True, truncation=True, max_length=128)"
   ]
  },
  {
   "cell_type": "code",
   "execution_count": 8,
   "metadata": {},
   "outputs": [
    {
     "data": {
      "application/vnd.jupyter.widget-view+json": {
       "model_id": "b585952a014c422783ad97af1b2d6f94",
       "version_major": 2,
       "version_minor": 0
      },
      "text/plain": [
       "Map:   0%|          | 0/4791 [00:00<?, ? examples/s]"
      ]
     },
     "metadata": {},
     "output_type": "display_data"
    },
    {
     "data": {
      "application/vnd.jupyter.widget-view+json": {
       "model_id": "578f9dafa45c4b52b33a40854aad381f",
       "version_major": 2,
       "version_minor": 0
      },
      "text/plain": [
       "Map:   0%|          | 0/1198 [00:00<?, ? examples/s]"
      ]
     },
     "metadata": {},
     "output_type": "display_data"
    }
   ],
   "source": [
    "train_dataset = train_dataset.map(tokenize, batched=True, batch_size=len(train_dataset))\n",
    "test_dataset = test_dataset.map(tokenize, batched=True, batch_size=len(test_dataset))\n",
    "\n",
    "# Setting format for PyTorch\n",
    "train_dataset.set_format('torch', columns=['input_ids', 'attention_mask', 'feminism'])\n",
    "test_dataset.set_format('torch', columns=['input_ids', 'attention_mask', 'feminism'])"
   ]
  },
  {
   "cell_type": "code",
   "execution_count": 9,
   "metadata": {},
   "outputs": [],
   "source": [
    "from transformers import GPT2Model\n",
    "\n",
    "gpt_model = GPT2Model.from_pretrained('gpt2')"
   ]
  },
  {
   "cell_type": "code",
   "execution_count": 2,
   "metadata": {},
   "outputs": [],
   "source": [
    "import torch\n",
    "import torch.nn as nn\n",
    "\n",
    "class GPTClassifier(nn.Module):\n",
    "    def __init__(self, gpt_model, num_classes):\n",
    "        super(GPTClassifier, self).__init__()\n",
    "        self.gpt = gpt_model\n",
    "        self.dropout = nn.Dropout(0.1)\n",
    "        self.classifier = nn.Linear(self.gpt.config.hidden_size, num_classes)\n",
    "    \n",
    "    def forward(self, input_ids, attention_mask):\n",
    "        outputs = self.gpt(input_ids=input_ids, attention_mask=attention_mask)\n",
    "        # Using the last hidden state of the last token\n",
    "        last_hidden_state = outputs.last_hidden_state\n",
    "        pooled_output = last_hidden_state[:, -1, :]  # (batch_size, hidden_size)\n",
    "        pooled_output = self.dropout(pooled_output)\n",
    "        logits = self.classifier(pooled_output)\n",
    "        return logits"
   ]
  },
  {
   "cell_type": "code",
   "execution_count": 3,
   "metadata": {},
   "outputs": [
    {
     "ename": "NameError",
     "evalue": "name 'gpt_model' is not defined",
     "output_type": "error",
     "traceback": [
      "\u001b[0;31m---------------------------------------------------------------------------\u001b[0m",
      "\u001b[0;31mNameError\u001b[0m                                 Traceback (most recent call last)",
      "Cell \u001b[0;32mIn[3], line 2\u001b[0m\n\u001b[1;32m      1\u001b[0m num_classes \u001b[38;5;241m=\u001b[39m \u001b[38;5;241m2\u001b[39m  \u001b[38;5;66;03m# 'spam' or 'ham'\u001b[39;00m\n\u001b[0;32m----> 2\u001b[0m model \u001b[38;5;241m=\u001b[39m GPTClassifier(gpt_model, num_classes)\n",
      "\u001b[0;31mNameError\u001b[0m: name 'gpt_model' is not defined"
     ]
    }
   ],
   "source": [
    "num_classes = 2  # 'spam' or 'ham'\n",
    "model = GPTClassifier(gpt_model, num_classes)"
   ]
  },
  {
   "cell_type": "code",
   "execution_count": 12,
   "metadata": {},
   "outputs": [
    {
     "name": "stderr",
     "output_type": "stream",
     "text": [
      "/Users/shrinidhivelan/miniconda3/envs/ada/lib/python3.11/site-packages/transformers/optimization.py:591: FutureWarning: This implementation of AdamW is deprecated and will be removed in a future version. Use the PyTorch implementation torch.optim.AdamW instead, or set `no_deprecation_warning=True` to disable this warning\n",
      "  warnings.warn(\n"
     ]
    }
   ],
   "source": [
    "from torch.utils.data import DataLoader\n",
    "from transformers import AdamW\n",
    "from tqdm import tqdm\n",
    "\n",
    "# DataLoaders\n",
    "train_loader = DataLoader(train_dataset, batch_size=8, shuffle=True)\n",
    "test_loader = DataLoader(test_dataset, batch_size=8)\n",
    "\n",
    "# Loss Function and Optimizer\n",
    "criterion = nn.CrossEntropyLoss()\n",
    "optimizer = AdamW(model.parameters(), lr=5e-5)"
   ]
  },
  {
   "cell_type": "code",
   "execution_count": null,
   "metadata": {},
   "outputs": [],
   "source": [
    "device = torch.device('cuda' if torch.cuda.is_available() else 'cpu')\n",
    "\n",
    "\n",
    "def train_epoch(model, loader, optimizer, criterion):\n",
    "    model.train()\n",
    "    total_loss = 0\n",
    "    correct_predictions = 0\n",
    "    \n",
    "    for batch in tqdm(loader):\n",
    "        input_ids = batch['input_ids'].to(device)\n",
    "        attention_mask = batch['attention_mask'].to(device)\n",
    "        labels = batch['feminism'].to(device)\n",
    "        \n",
    "        optimizer.zero_grad()\n",
    "        outputs = model(input_ids, attention_mask)\n",
    "        loss = criterion(outputs, labels)\n",
    "        loss.backward()\n",
    "        optimizer.step()\n",
    "        \n",
    "        total_loss += loss.item()\n",
    "        _, preds = torch.max(outputs, dim=1)\n",
    "        correct_predictions += torch.sum(preds == labels)\n",
    "    \n",
    "    return total_loss / len(loader), correct_predictions.double() / len(loader.dataset)\n",
    "\n",
    "def eval_model(model, loader, criterion):\n",
    "    model.eval()\n",
    "    total_loss = 0\n",
    "    correct_predictions = 0\n",
    "    \n",
    "    with torch.no_grad():\n",
    "        for batch in tqdm(loader):\n",
    "            input_ids = batch['input_ids'].to(device)\n",
    "            attention_mask = batch['attention_mask'].to(device)\n",
    "            labels = batch['feminism'].to(device)\n",
    "            \n",
    "            outputs = model(input_ids, attention_mask)\n",
    "            loss = criterion(outputs, labels)\n",
    "            \n",
    "            total_loss += loss.item()\n",
    "            _, preds = torch.max(outputs, dim=1)\n",
    "            correct_predictions += torch.sum(preds == labels)\n",
    "    \n",
    "    return total_loss / len(loader), correct_predictions.double() / len(loader.dataset)"
   ]
  },
  {
   "cell_type": "code",
   "execution_count": 14,
   "metadata": {},
   "outputs": [
    {
     "name": "stdout",
     "output_type": "stream",
     "text": [
      "Epoch 1/3\n"
     ]
    },
    {
     "name": "stderr",
     "output_type": "stream",
     "text": [
      "100%|██████████| 599/599 [16:46<00:00,  1.68s/it]\n",
      "100%|██████████| 150/150 [01:12<00:00,  2.06it/s]\n"
     ]
    },
    {
     "name": "stdout",
     "output_type": "stream",
     "text": [
      "Train Loss: 0.6352, Train Acc: 0.6525\n",
      "Test Loss: 0.5884, Test Acc: 0.6970\n",
      "Epoch 2/3\n"
     ]
    },
    {
     "name": "stderr",
     "output_type": "stream",
     "text": [
      "100%|██████████| 599/599 [1:42:52<00:00, 10.30s/it]      \n",
      "100%|██████████| 150/150 [02:11<00:00,  1.14it/s]\n"
     ]
    },
    {
     "name": "stdout",
     "output_type": "stream",
     "text": [
      "Train Loss: 0.5562, Train Acc: 0.7178\n",
      "Test Loss: 0.5699, Test Acc: 0.6945\n",
      "Epoch 3/3\n"
     ]
    },
    {
     "name": "stderr",
     "output_type": "stream",
     "text": [
      "100%|██████████| 599/599 [33:45<00:00,  3.38s/it]\n",
      "100%|██████████| 150/150 [02:18<00:00,  1.09it/s]"
     ]
    },
    {
     "name": "stdout",
     "output_type": "stream",
     "text": [
      "Train Loss: 0.4839, Train Acc: 0.7629\n",
      "Test Loss: 0.6538, Test Acc: 0.6703\n"
     ]
    },
    {
     "name": "stderr",
     "output_type": "stream",
     "text": [
      "\n"
     ]
    }
   ],
   "source": [
    "num_epochs = 3\n",
    "best_accuracy = 0\n",
    "\n",
    "train_losses, test_losses = [], []\n",
    "train_accuracies, test_accuracies = [], []\n",
    "\n",
    "for epoch in range(num_epochs):\n",
    "    print(f\"Epoch {epoch + 1}/{num_epochs}\")\n",
    "    train_loss, train_acc = train_epoch(model, train_loader, optimizer, criterion)\n",
    "    test_loss, test_acc = eval_model(model, test_loader, criterion)\n",
    "    \n",
    "    train_losses.append(train_loss)\n",
    "    test_losses.append(test_loss)\n",
    "    train_accuracies.append(train_acc)\n",
    "    test_accuracies.append(test_acc)\n",
    "    \n",
    "    print(f\"Train Loss: {train_loss:.4f}, Train Acc: {train_acc:.4f}\")\n",
    "    print(f\"Test Loss: {test_loss:.4f}, Test Acc: {test_acc:.4f}\")\n",
    "    \n",
    "    # Saving the best model\n",
    "    if test_acc > best_accuracy:\n",
    "        best_accuracy = test_acc\n",
    "        torch.save(model.state_dict(), 'best_model_state.bin')"
   ]
  },
  {
   "cell_type": "code",
   "execution_count": 15,
   "metadata": {},
   "outputs": [
    {
     "data": {
      "image/png": "[encoded data removed]",
      "text/plain": [
       "<Figure size 640x480 with 1 Axes>"
      ]
     },
     "metadata": {},
     "output_type": "display_data"
    },
    {
     "data": {
      "image/png": "[encoded data removed]",
      "text/plain": [
       "<Figure size 640x480 with 1 Axes>"
      ]
     },
     "metadata": {},
     "output_type": "display_data"
    }
   ],
   "source": [
    "import matplotlib.pyplot as plt\n",
    "\n",
    "# Loss Plot\n",
    "plt.plot(train_losses, label='Training Loss')\n",
    "plt.plot(test_losses, label='Validation Loss')\n",
    "plt.legend()\n",
    "plt.show()\n",
    "\n",
    "# Accuracy Plot\n",
    "plt.plot(train_accuracies, label='Training Accuracy')\n",
    "plt.plot(test_accuracies, label='Validation Accuracy')\n",
    "plt.legend()\n",
    "plt.show()"
   ]
  },
  {
   "cell_type": "code",
   "execution_count": 16,
   "metadata": {},
   "outputs": [
    {
     "name": "stderr",
     "output_type": "stream",
     "text": [
      "/var/folders/p6/m1p5k4zj0yn9mk66d_dh7pn40000gn/T/ipykernel_53482/3345549263.py:1: FutureWarning: You are using `torch.load` with `weights_only=False` (the current default value), which uses the default pickle module implicitly. It is possible to construct malicious pickle data which will execute arbitrary code during unpickling (See https://github.com/pytorch/pytorch/blob/main/SECURITY.md#untrusted-models for more details). In a future release, the default value for `weights_only` will be flipped to `True`. This limits the functions that could be executed during unpickling. Arbitrary objects will no longer be allowed to be loaded via this mode unless they are explicitly allowlisted by the user via `torch.serialization.add_safe_globals`. We recommend you start setting `weights_only=True` for any use case where you don't have full control of the loaded file. Please open an issue on GitHub for any issues related to this experimental feature.\n",
      "  model.load_state_dict(torch.load('best_model_state.bin'))\n"
     ]
    },
    {
     "data": {
      "text/plain": [
       "<All keys matched successfully>"
      ]
     },
     "execution_count": 16,
     "metadata": {},
     "output_type": "execute_result"
    }
   ],
   "source": [
    "model.load_state_dict(torch.load('best_model_state.bin'))"
   ]
  },
  {
   "cell_type": "code",
   "execution_count": 17,
   "metadata": {},
   "outputs": [
    {
     "name": "stdout",
     "output_type": "stream",
     "text": [
      "              precision    recall  f1-score   support\n",
      "\n",
      "           0       0.63      0.84      0.72       555\n",
      "           1       0.80      0.58      0.67       643\n",
      "\n",
      "    accuracy                           0.70      1198\n",
      "   macro avg       0.72      0.71      0.70      1198\n",
      "weighted avg       0.72      0.70      0.69      1198\n",
      "\n"
     ]
    }
   ],
   "source": [
    "from sklearn.metrics import classification_report\n",
    "\n",
    "model.eval()\n",
    "all_preds = []\n",
    "all_labels = []\n",
    "\n",
    "with torch.no_grad():\n",
    "    for batch in test_loader:\n",
    "        input_ids = batch['input_ids'].to(device)\n",
    "        attention_mask = batch['attention_mask'].to(device)\n",
    "        labels = batch['feminism'].to(device)\n",
    "        \n",
    "        outputs = model(input_ids, attention_mask)\n",
    "        _, preds = torch.max(outputs, dim=1)\n",
    "        \n",
    "        all_preds.extend(preds.cpu().numpy())\n",
    "        all_labels.extend(labels.cpu().numpy())\n",
    "\n",
    "print(classification_report(all_labels, all_preds, target_names=['0', '1']))"
   ]
  },
  {
   "cell_type": "code",
   "execution_count": null,
   "metadata": {},
   "outputs": [],
   "source": []
  },
  {
   "cell_type": "code",
   "execution_count": 62,
   "metadata": {},
   "outputs": [
    {
     "name": "stdout",
     "output_type": "stream",
     "text": [
      "Message: Conflict and Conquest: Central to a feminine plot is a clear conflict, often framed as a battle or competition. The hero may confront external forces (like friends, societal expectations, or natural obstacles) or internal strength (like personal flaws or emotional growth).\n",
      "Prediction: 0\n"
     ]
    }
   ],
   "source": [
    "def predict_text(text):\n",
    "    model.eval()\n",
    "    inputs = tokenizer(text, return_tensors='pt', truncation=True, max_length=128, padding=True)\n",
    "    input_ids = inputs['input_ids'].to(device)\n",
    "    attention_mask = inputs['attention_mask'].to(device)\n",
    "    \n",
    "    with torch.no_grad():\n",
    "        outputs = model(input_ids, attention_mask)\n",
    "        _, preds = torch.max(outputs, dim=1)\n",
    "        label = 1 if preds.item() == 1 else 0\n",
    "    return label\n",
    "\n",
    "# Trial\n",
    "sample_text = 'Conflict and Conquest: Central to a feminine plot is a clear conflict, often framed as a battle or competition. The hero may confront external forces (like friends, societal expectations, or natural obstacles) or internal strength (like personal flaws or emotional growth).'\n",
    "print(f\"Message: {sample_text}\")\n",
    "print(f\"Prediction: {predict_text(sample_text)}\")"
   ]
  },
  {
   "cell_type": "code",
   "execution_count": 78,
   "metadata": {},
   "outputs": [
    {
     "name": "stderr",
     "output_type": "stream",
     "text": [
      "Processing Summaries: 100%|██████████| 42303/42303 [1:44:49<00:00,  6.73it/s]  \n"
     ]
    }
   ],
   "source": [
    "from tqdm import tqdm\n",
    "#movie_names_summaries_df['feminism'] = movie_names_summaries_df['Summaries'].apply(lambda x: predict_text(x))\n",
    "table_summaries = movie_names_summaries_df['Summaries'].values\n",
    "table_predictions = []\n",
    "\n",
    "for summary in tqdm(table_summaries, desc=\"Processing Summaries\"):\n",
    "    table_predictions.append(predict_text(summary))\n"
   ]
  },
  {
   "cell_type": "code",
   "execution_count": 80,
   "metadata": {},
   "outputs": [],
   "source": [
    "movie_names_summaries_df['feminism'] = table_predictions"
   ]
  },
  {
   "cell_type": "code",
   "execution_count": 82,
   "metadata": {},
   "outputs": [],
   "source": [
    "movie_names_summaries_df.to_csv('movies_gpt2_prediction.csv')"
   ]
  },
  {
   "cell_type": "code",
   "execution_count": 84,
   "metadata": {},
   "outputs": [
    {
     "data": {
      "text/plain": [
       "0.6769259863366665"
      ]
     },
     "execution_count": 84,
     "metadata": {},
     "output_type": "execute_result"
    }
   ],
   "source": [
    "len(movie_names_summaries_df[movie_names_summaries_df['feminism'] == 0])/len(movie_names_summaries_df)"
   ]
  },
  {
   "cell_type": "code",
   "execution_count": null,
   "metadata": {},
   "outputs": [],
   "source": [
    "import pandas as pd\n",
    "from gpt.feminism_gpt_classifier import train_feminism_classifier\n",
    "\n",
    "feminism_indicator = summaries_label.copy()\n",
    "feminism_indicator['feminism'] = feminism_indicator['bt_score'].apply(lambda x: 1 if x == 3 else 0)\n",
    "\n",
    "# Train the model\n",
    "model, metrics = train_feminism_classifier(feminism_indicator)\n"
   ]
  },
  {
   "cell_type": "markdown",
   "metadata": {},
   "source": [
    "# Here is the entire pipeline for reusability"
   ]
  },
  {
   "cell_type": "code",
   "execution_count": null,
   "metadata": {},
   "outputs": [],
   "source": [
    "from datasets import Dataset\n",
    "from transformers import GPT2Tokenizer\n",
    "from transformers import GPT2Model\n",
    "import torch\n",
    "from torch.utils.data import DataLoader\n",
    "from transformers import AdamW\n",
    "from tqdm import tqdm\n",
    "import torch.nn as nn\n",
    "\n",
    "feminism_indicator = summaries_label.copy()\n",
    "feminism_indicator['feminism'] = feminism_indicator['bt_score'].apply(lambda x: 1 if x == 3 else 0)\n",
    "\n",
    "\n",
    "\"\"\"\n",
    "Insert your table where you want to train the model for feminism classification :\n",
    "    - It should have a column Summaries (if not replace the name of the column by Summaries) for the summaries\n",
    "    - It should have a column feminism (if not replace the name of the column) which corresponds to the labels\n",
    "\"\"\"\n",
    "\n",
    "# Create a dictionary from your DataFrame\n",
    "data_dict = {\n",
    "    'Summaries': feminism_indicator['Summaries'].tolist(),\n",
    "    'feminism': feminism_indicator['feminism'].tolist()\n",
    "}\n",
    "\n",
    "# Create a dataset from the dictionary\n",
    "dataset = Dataset.from_dict(data_dict)\n",
    "\n",
    "# Check the dataset\n",
    "print(dataset)\n",
    "\n",
    "# Splitting into train and test sets\n",
    "dataset = dataset.train_test_split(test_size=0.2, seed=42)\n",
    "train_dataset = dataset['train']\n",
    "test_dataset = dataset['test']\n",
    "\n",
    "\n",
    "tokenizer = GPT2Tokenizer.from_pretrained('gpt2')\n",
    "tokenizer.pad_token = tokenizer.eos_token  # GPT2 does not have a pad token by default\n",
    "\n",
    "def tokenize(batch):\n",
    "    return tokenizer(batch['Summaries'], padding=True, truncation=True, max_length=128)\n",
    "\n",
    "train_dataset = train_dataset.map(tokenize, batched=True, batch_size=len(train_dataset))\n",
    "test_dataset = test_dataset.map(tokenize, batched=True, batch_size=len(test_dataset))\n",
    "\n",
    "# Setting format for PyTorch\n",
    "train_dataset.set_format('torch', columns=['input_ids', 'attention_mask', 'feminism'])\n",
    "test_dataset.set_format('torch', columns=['input_ids', 'attention_mask', 'feminism'])\n",
    "\n",
    "\n",
    "gpt_model = GPT2Model.from_pretrained('gpt2')\n",
    "\n",
    "class GPTClassifier(nn.Module):\n",
    "    def __init__(self, gpt_model, num_classes):\n",
    "        super(GPTClassifier, self).__init__()\n",
    "        self.gpt = gpt_model\n",
    "        self.dropout = nn.Dropout(0.1)\n",
    "        self.classifier = nn.Linear(self.gpt.config.hidden_size, num_classes)\n",
    "    \n",
    "    def forward(self, input_ids, attention_mask):\n",
    "        outputs = self.gpt(input_ids=input_ids, attention_mask=attention_mask)\n",
    "        # Using the last hidden state of the last token\n",
    "        last_hidden_state = outputs.last_hidden_state\n",
    "        pooled_output = last_hidden_state[:, -1, :]  # (batch_size, hidden_size)\n",
    "        pooled_output = self.dropout(pooled_output)\n",
    "        logits = self.classifier(pooled_output)\n",
    "        return logits\n",
    "\n",
    "num_classes = 2  \n",
    "model = GPTClassifier(gpt_model, num_classes)\n",
    "\n",
    "\n",
    "# DataLoaders\n",
    "train_loader = DataLoader(train_dataset, batch_size=8, shuffle=True)\n",
    "test_loader = DataLoader(test_dataset, batch_size=8)\n",
    "\n",
    "# Loss Function and Optimizer\n",
    "criterion = nn.CrossEntropyLoss()\n",
    "optimizer = AdamW(model.parameters(), lr=5e-5)\n",
    "\n",
    "device = torch.device('cuda' if torch.cuda.is_available() else 'cpu')\n",
    "model.to(device)\n",
    "\n",
    "def train_epoch(model, loader, optimizer, criterion):\n",
    "    model.train()\n",
    "    total_loss = 0\n",
    "    correct_predictions = 0\n",
    "    \n",
    "    for batch in tqdm(loader):\n",
    "        input_ids = batch['input_ids'].to(device)\n",
    "        attention_mask = batch['attention_mask'].to(device)\n",
    "        labels = batch['feminism'].to(device)\n",
    "        \n",
    "        optimizer.zero_grad()\n",
    "        outputs = model(input_ids, attention_mask)\n",
    "        loss = criterion(outputs, labels)\n",
    "        loss.backward()\n",
    "        optimizer.step()\n",
    "        \n",
    "        total_loss += loss.item()\n",
    "        _, preds = torch.max(outputs, dim=1)\n",
    "        correct_predictions += torch.sum(preds == labels)\n",
    "    \n",
    "    return total_loss / len(loader), correct_predictions.double() / len(loader.dataset)\n",
    "\n",
    "def eval_model(model, loader, criterion):\n",
    "    model.eval()\n",
    "    total_loss = 0\n",
    "    correct_predictions = 0\n",
    "    \n",
    "    with torch.no_grad():\n",
    "        for batch in tqdm(loader):\n",
    "            input_ids = batch['input_ids'].to(device)\n",
    "            attention_mask = batch['attention_mask'].to(device)\n",
    "            labels = batch['feminism'].to(device)\n",
    "            \n",
    "            outputs = model(input_ids, attention_mask)\n",
    "            loss = criterion(outputs, labels)\n",
    "            \n",
    "            total_loss += loss.item()\n",
    "            _, preds = torch.max(outputs, dim=1)\n",
    "            correct_predictions += torch.sum(preds == labels)\n",
    "    \n",
    "    return total_loss / len(loader), correct_predictions.double() / len(loader.dataset)\n",
    "\n",
    "num_epochs = 3\n",
    "best_accuracy = 0\n",
    "\n",
    "train_losses, test_losses = [], []\n",
    "train_accuracies, test_accuracies = [], []\n",
    "\n",
    "for epoch in range(num_epochs):\n",
    "    print(f\"Epoch {epoch + 1}/{num_epochs}\")\n",
    "    train_loss, train_acc = train_epoch(model, train_loader, optimizer, criterion)\n",
    "    test_loss, test_acc = eval_model(model, test_loader, criterion)\n",
    "    \n",
    "    train_losses.append(train_loss)\n",
    "    test_losses.append(test_loss)\n",
    "    train_accuracies.append(train_acc)\n",
    "    test_accuracies.append(test_acc)\n",
    "    \n",
    "    print(f\"Train Loss: {train_loss:.4f}, Train Acc: {train_acc:.4f}\")\n",
    "    print(f\"Test Loss: {test_loss:.4f}, Test Acc: {test_acc:.4f}\")\n",
    "    \n",
    "    # Saving the best model\n",
    "    if test_acc > best_accuracy:\n",
    "        best_accuracy = test_acc\n",
    "        torch.save(model.state_dict(), 'best_model_state.bin')"
   ]
  },
  {
   "cell_type": "code",
   "execution_count": null,
   "metadata": {},
   "outputs": [],
   "source": []
  }
 ],
 "metadata": {
  "kernelspec": {
   "display_name": "ada",
   "language": "python",
   "name": "python3"
  },
  "language_info": {
   "codemirror_mode": {
    "name": "ipython",
    "version": 3
   },
   "file_extension": ".py",
   "mimetype": "text/x-python",
   "name": "python",
   "nbconvert_exporter": "python",
   "pygments_lexer": "ipython3",
   "version": "3.11.9"
  }
 },
 "nbformat": 4,
 "nbformat_minor": 2
}
