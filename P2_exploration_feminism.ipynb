{
 "cells": [
  {
   "cell_type": "markdown",
   "metadata": {},
   "source": [
    "## P2 Exploration\n",
    "\n",
    "Basic exploration will be done in this jupyter notebook."
   ]
  },
  {
   "cell_type": "code",
   "execution_count": null,
   "metadata": {},
   "outputs": [],
   "source": [
    "from helpers import *\n",
    " \n",
    "# Just fill this with wherever is your main data folder is (copy the path just before 'MovieSummaries'):\n",
    "file_source = \"/Users/shrinidhivelan/Downloads/\"\n",
    "\n",
    "# Same goes for the reviews dataset : but simply copy the entire path of where your reviews data is... \n",
    "reviews_path = \"/Users/shrinidhivelan/Downloads/TMDB_movie_dataset_v11.csv\"\n",
    "\n",
    "### creating dataset by extracting \n",
    "MovieMetadata_df, CharacterMetadata_df, names_df, plot_summaries_df, tvTropes_df, merged_df = create_datasets(file_source, reviews_path)"
   ]
  },
  {
   "cell_type": "code",
   "execution_count": null,
   "metadata": {},
   "outputs": [],
   "source": []
  }
 ],
 "metadata": {
  "kernelspec": {
   "display_name": "ada",
   "language": "python",
   "name": "python3"
  },
  "language_info": {
   "codemirror_mode": {
    "name": "ipython",
    "version": 3
   },
   "file_extension": ".py",
   "mimetype": "text/x-python",
   "name": "python",
   "nbconvert_exporter": "python",
   "pygments_lexer": "ipython3",
   "version": "3.11.9"
  }
 },
 "nbformat": 4,
 "nbformat_minor": 2
}
