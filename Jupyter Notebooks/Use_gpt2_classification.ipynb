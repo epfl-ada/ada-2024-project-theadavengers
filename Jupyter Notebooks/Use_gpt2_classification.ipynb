{
 "cells": [
  {
   "cell_type": "code",
   "execution_count": null,
   "metadata": {},
   "outputs": [],
   "source": []
  },
  {
   "cell_type": "markdown",
   "metadata": {},
   "source": [
    "### Have a model to import in html to make the users write a sentence and make the model react"
   ]
  },
  {
   "cell_type": "code",
   "execution_count": null,
   "metadata": {},
   "outputs": [
    {
     "name": "stderr",
     "output_type": "stream",
     "text": [
      "/var/folders/p6/m1p5k4zj0yn9mk66d_dh7pn40000gn/T/ipykernel_22322/1751070928.py:34: FutureWarning: You are using `torch.load` with `weights_only=False` (the current default value), which uses the default pickle module implicitly. It is possible to construct malicious pickle data which will execute arbitrary code during unpickling (See https://github.com/pytorch/pytorch/blob/main/SECURITY.md#untrusted-models for more details). In a future release, the default value for `weights_only` will be flipped to `True`. This limits the functions that could be executed during unpickling. Arbitrary objects will no longer be allowed to be loaded via this mode unless they are explicitly allowlisted by the user via `torch.serialization.add_safe_globals`. We recommend you start setting `weights_only=True` for any use case where you don't have full control of the loaded file. Please open an issue on GitHub for any issues related to this experimental feature.\n",
      "  model.load_state_dict(torch.load('/Users/shrinidhivelan/Desktop/ADA/ada-2024-project-theadavengers/best_model_state.bin'))\n"
     ]
    },
    {
     "name": "stdout",
     "output_type": "stream",
     "text": [
      "Message: Conflict and Conquest: Central to a feminine plot is a clear conflict, often framed as a battle or competition. The hero may confront external forces (like friends, societal expectations, or natural obstacles) or internal strength (like personal flaws or emotional growth).\n",
      "Prediction: 0\n"
     ]
    }
   ],
   "source": [
    "from transformers import GPT2Model\n",
    "from transformers import GPT2Tokenizer\n",
    "import torch\n",
    "import torch.nn as nn\n",
    "\n",
    "gpt_model = GPT2Model.from_pretrained('gpt2')\n",
    "tokenizer = GPT2Tokenizer.from_pretrained('gpt2')\n",
    "tokenizer.pad_token = tokenizer.eos_token  # GPT2 does not have a pad token by default\n",
    "\n",
    "def tokenize(batch):\n",
    "    return tokenizer(batch['Summaries'], padding=True, truncation=True, max_length=128)\n",
    "\n",
    "\n",
    "class GPTClassifier(nn.Module):\n",
    "    def __init__(self, gpt_model, num_classes):\n",
    "        super(GPTClassifier, self).__init__()\n",
    "        self.gpt = gpt_model\n",
    "        self.dropout = nn.Dropout(0.1)\n",
    "        self.classifier = nn.Linear(self.gpt.config.hidden_size, num_classes)\n",
    "    \n",
    "    def forward(self, input_ids, attention_mask):\n",
    "        outputs = self.gpt(input_ids=input_ids, attention_mask=attention_mask)\n",
    "        # Using the last hidden state of the last token\n",
    "        last_hidden_state = outputs.last_hidden_state\n",
    "        pooled_output = last_hidden_state[:, -1, :]  # (batch_size, hidden_size)\n",
    "        pooled_output = self.dropout(pooled_output)\n",
    "        logits = self.classifier(pooled_output)\n",
    "        return logits\n",
    "\n",
    "num_classes = 2  # 'spam' or 'ham'\n",
    "model = GPTClassifier(gpt_model, num_classes)\n",
    "model.load_state_dict(torch.load('/Users/shrinidhivelan/Desktop/ADA/ada-2024-project-theadavengers/best_model_state.bin'))\n",
    "device = torch.device('cuda' if torch.cuda.is_available() else 'cpu')\n",
    "model.to(device)\n",
    "\n",
    "def predict_text(text):\n",
    "    model.eval()\n",
    "    inputs = tokenizer(text, return_tensors='pt', truncation=True, max_length=128, padding=True)\n",
    "    input_ids = inputs['input_ids'].to(device)\n",
    "    attention_mask = inputs['attention_mask'].to(device)\n",
    "    \n",
    "    with torch.no_grad():\n",
    "        outputs = model(input_ids, attention_mask)\n",
    "        _, preds = torch.max(outputs, dim=1)\n",
    "        label = 1 if preds.item() == 1 else 0\n",
    "    return label\n",
    "\n",
    "# Trial\n",
    "sample_text = 'Conflict and Conquest: Central to a feminine plot is a clear conflict, often framed as a battle or competition. The hero may confront external forces (like friends, societal expectations, or natural obstacles) or internal strength (like personal flaws or emotional growth).'\n",
    "print(f\"Message: {sample_text}\")\n",
    "print(f\"Prediction: {predict_text(sample_text)}\")"
   ]
  },
  {
   "cell_type": "code",
   "execution_count": null,
   "metadata": {},
   "outputs": [],
   "source": []
  }
 ],
 "metadata": {
  "kernelspec": {
   "display_name": "ada",
   "language": "python",
   "name": "python3"
  },
  "language_info": {
   "codemirror_mode": {
    "name": "ipython",
    "version": 3
   },
   "file_extension": ".py",
   "mimetype": "text/x-python",
   "name": "python",
   "nbconvert_exporter": "python",
   "pygments_lexer": "ipython3",
   "version": "3.11.9"
  }
 },
 "nbformat": 4,
 "nbformat_minor": 2
}
