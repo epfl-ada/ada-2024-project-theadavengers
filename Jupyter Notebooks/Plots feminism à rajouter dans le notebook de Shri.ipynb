{
 "cells": [
  {
   "cell_type": "code",
   "execution_count": 7,
   "metadata": {},
   "outputs": [],
   "source": [
    "import pandas as pd\n",
    "import matplotlib.pyplot as plt"
   ]
  },
  {
   "cell_type": "code",
   "execution_count": 8,
   "metadata": {},
   "outputs": [],
   "source": [
    "file_source = \"/Users/dorahborgi/Documents/GitHub/ada-2024-project-theadavengers/\"\n",
    "\n",
    "movie_dataset = pd.read_csv(file_source + 'Prediction csv files/movie_feminism_dataset_gpt2_prediction.csv')"
   ]
  },
  {
   "cell_type": "code",
   "execution_count": 9,
   "metadata": {},
   "outputs": [],
   "source": [
    "oscars_df = pd.read_csv(file_source + 'Prediction csv files/oscars_df.csv')\n",
    "columns_to_keep = ['Film', 'Award', 'IMDB Rating']\n",
    "oscars_df = oscars_df[columns_to_keep]"
   ]
  },
  {
   "cell_type": "code",
   "execution_count": 10,
   "metadata": {},
   "outputs": [
    {
     "data": {
      "text/plain": [
       "Index(['Unnamed: 0', 'Wikipedia movie ID', 'Summaries', 'Freebase movie ID',\n",
       "       'Movie name', 'Movie release date', 'Movie box office revenue',\n",
       "       'Movie runtime', 'Movie languages (Freebase ID:name tuples)',\n",
       "       'Movie countries (Freebase ID:name tuples)',\n",
       "       'Movie genres (Freebase ID:name tuples)', 'Year',\n",
       "       'Country dictionnaire', 'Genre dictionnaire', 'Language dictionnaire',\n",
       "       'feminism'],\n",
       "      dtype='object')"
      ]
     },
     "execution_count": 10,
     "metadata": {},
     "output_type": "execute_result"
    }
   ],
   "source": [
    "movie_dataset.columns"
   ]
  },
  {
   "cell_type": "code",
   "execution_count": 11,
   "metadata": {},
   "outputs": [],
   "source": [
    "genres_grouped = {\n",
    "    \"Action and Adventure\": [\n",
    "        'Action', 'Action Thrillers', 'Action/Adventure', 'Adventure', 'Action Thriller', 'Adventure Comedy', 'Superhero', \n",
    "        'Superhero movie', 'War film', 'War effort', 'Sci-Fi Adventure', 'Sword and sorcery', 'Sword and sorcery films', \n",
    "        'Martial Arts Film', 'Heist', 'Combat Films', 'Western', 'B-Western', 'Spaghetti Western', 'Crime Thriller', \n",
    "        'Detective fiction', 'Spy', 'Spy Film', 'Action Thrillers'\n",
    "    ],\n",
    "    \"Drama\": [\n",
    "        'Drama', 'Period piece', 'Family Drama', 'Romantic drama', 'Tragicomedy', 'Courtroom Drama', \n",
    "        'Political drama', 'Medical fiction', 'Crime Drama', 'Historical drama', 'Legal drama', 'Political satire', \n",
    "        'Inspirational Drama', 'Courtroom Comedy', 'Historical Epic', 'Family-Oriented Adventure', \n",
    "        'Social problem film', 'Nature', 'Domestic Comedy', 'Juvenile Delinquency Film', 'Coming of age', 'Childhood Drama',\n",
    "        'Family & Personal Relationships', 'Americana', 'Roadshow theatrical release', 'Culture & Society', 'Interpersonal Relationships',\n",
    "        'Teen', 'Addiction Drama',  'Marriage Drama', 'Slice of life story', \n",
    "    ],\n",
    "    \"Comedy\": [\n",
    "        'Comedy', 'Screwball comedy', 'Satire', 'Black comedy', 'Romantic comedy', 'Comedy-drama', \n",
    "        'Slapstick', 'Comedy Thriller', 'Domestic Comedy', 'Parody', 'Dark Comedy', 'Stand-up comedy', \n",
    "        'Slapstick Comedy', 'Comedy film', 'Black-and-white Comedy', 'Comedy of manners', 'Ensemble Film',\n",
    "        'Comedy of Errors', 'Humour', 'Comedy Western', 'Workplace Comedy', 'Action Comedy', 'Ealing Comedies', 'Mockumentary'\n",
    "    ],\n",
    "    \"Horror and Thriller\": [\n",
    "        'Horror', 'Thriller', 'Slasher', 'Psychological thriller', 'Zombie Film', 'Supernatural', \n",
    "        'Monster movie', 'Crime Thriller', 'Horror Comedy', 'Gothic Film', 'Horror Mystery', 'Psychological horror', \n",
    "        'Slasher film', 'Crime Fiction', 'Psycho-biddy', 'Vampire movies', 'Erotic thriller', 'Natural horror films',\n",
    "        'Comedy horror', 'Costume Horror'\n",
    "    ],\n",
    "    \"Romance\": [\n",
    "        'Romance Film', 'Romantic fantasy', 'Romantic drama', 'Romantic comedy', 'Love story', \n",
    "        'Romantic thriller', 'Fantasy Romance', 'Sex comedy', 'Christmas movie'\n",
    "    ],\n",
    "    \"Sci-Fi and Fantasy\": [\n",
    "        'Science Fiction', 'Fantasy', 'Fantasy Comedy', 'Sci-Fi Horror', 'Space western', 'Cyberpunk', 'Dystopia', \n",
    "        'Alien Film', 'Supernatural', 'Time travel', 'Apocalyptic and post-apocalyptic fiction', 'Steampunk',\n",
    "        'Fantasy Adventure', 'Neo-noir', 'Surrealism', 'Sci-Fi Thriller', 'Sci Fi Pictures original films'\n",
    "    ],\n",
    "    \"Family and Kids\": [\n",
    "        'Family Film', 'Animated', 'Children\\'s/Family', 'Family-Oriented Adventure', 'Animation', 'Children\\'s Fantasy',\n",
    "        'Animated Musical', 'Family Movie', 'Fairy tale', \"Children's\", 'Animated cartoon', 'School story', \"Children's Issues\", \n",
    "        \"Children's Entertainment\", \"Children's Film\",  'Family-Oriented films', 'Family',\n",
    "        \"Children's Issue\"\n",
    "    ],\n",
    "    \"Documentary\": [\n",
    "        'Documentary', 'Docudrama', 'Biography', 'Educational', 'Music', 'Travel', 'Social issues', \n",
    "        'Politics & Society', 'Environmental Science', 'Business', 'Political cinema', 'Historical Documentaries',\n",
    "        'Health & Fitness', 'World History'\n",
    "    ],\n",
    "    \"Indie\": [\n",
    "        'Indie', 'Experimental film', 'Avant-garde', 'Art film', 'Independent film', 'Mumblecore', 'Film-Opera', 'Short Film',\n",
    "        'Experimental Films', 'Psychological Films'\n",
    "    ],\n",
    "    \"History\": [\n",
    "        'History', 'Historical fiction', 'Biographical film', 'Historical epic', 'Costume drama', 'Historical drama',\n",
    "        'Biographical film', 'War and Politics', 'WWII Films', 'Political cinema', 'Period Horror'\n",
    "    ],\n",
    "    \"Cult\": [\n",
    "        'Cult','B-movie','Grindhouse','Blaxploitation','Giallo','Zombie Film','Stoner film','Erotic film','Exploitation film',\n",
    "        'Pinku eiga', 'Splatter film', 'Gore', 'Erotica', 'Softcore Porn', 'Pornographic movie', 'Hardcore pornography',\n",
    "        'Gay pornography', 'Gay', 'Gay Interest', 'Erotic Drama', 'Exploitation', 'Glamorized Spy Film', 'Gay Themed'\n",
    "    ],\n",
    "    \"Crime and Mystery\": [\n",
    "        'Crime Fiction', 'Crime Drama', 'Detective', 'Film noir', 'Mystery', 'Whodunit', 'Crime Comedy', 'Caper story',\n",
    "        'Legal Drama', 'Crime Thriller', 'Gangster Film', 'Heist', 'Crime', 'Glamorized Spy Film'\n",
    "    ],\n",
    "    \"Social Issues and Political Films\": [\n",
    "        'Political drama', 'Political satire', 'Political thriller', 'Social issue films', 'Law & Crime', \n",
    "        'Gender Issues', 'Political cinema', 'Propaganda film'\n",
    "    ],\n",
    "    \"Experimental\": [\n",
    "        'Experimental Films', 'Psychological Films', 'Crime Comedy', 'Propaganda Films', 'Sexploitation', \n",
    "        'Supernatural Film', 'Detective Fiction', 'Cult Films', 'Anthropology', 'Mondo film', 'Public Domain', \n",
    "        'Genre Fiction', 'Bloopers & Candid Camera', 'Screwball comedy', 'Comedy horror'\n",
    "    ],\n",
    "    #\"Feminist Films\": [\n",
    "    #    'Feminist Film', 'Gender Issues', 'Women in prison films', 'Women’s Studies', 'Feminist cinema', \n",
    "    #    'Women in film', 'Feminist documentary', 'Sexual Politics in Film'\n",
    "    #],\n",
    "    \"Musical\":['Musical', 'Bollywood', 'Musical Drama', 'Hip hop movies', 'Jukebox musical','Punk rock',\n",
    "               'Backstage Musical', 'Instrumental Music', 'Operetta', 'Punk rock'\n",
    "\n",
    "    ],\n",
    "    \"Miscellaneous Other Genres\": [\n",
    "        'World cinema', 'Black-and-white', 'Biopic [feature]', 'Film adaptation', \n",
    "        'Musical comedy', 'Beach Film', 'Silent film', 'Melodrama', 'Television movie', \n",
    "        'Sports', 'LGBT', 'Filipino', 'Filipino Movies', 'Epic', 'Anthology', 'Japanese Movies', \n",
    "        'Haunted House Film', 'Tamil cinema', 'The Netherlands in World War II', 'Suspense', 'Erotic comedy', \n",
    "        'Tollywood', 'New Hollywood', 'Erotic Drama', 'Erotica', 'Chinese Movies', \n",
    "        'Fantasy Drama', 'Pre-Code', 'Neo-noir', 'Buddy film', 'Kitchen sink realism', 'Media Satire', \n",
    "        'Computer Animation', 'Christian film', 'Creature Film', 'Remake'\n",
    "        'Road movie', 'Boxing', 'Stop motion', 'Holiday Film', 'Animal Picture', 'Feature film', \n",
    "        'Dogme 95', 'Gross out', 'Road-Horror', 'Disaster', \n",
    "        'Natural disaster', 'Anime', 'Chase Movie', 'Escape Film', 'Dance', \n",
    "        'Religious Film', 'Samurai cinema', 'Tragedy', 'Monster', \n",
    "        'Absurdism', 'British Empire Film', 'Costume Adventure', 'Biker Film', 'Film à clef', \n",
    "        'Horse racing', 'Wuxia', 'Heavenly Comedy', 'Cavalry Film', 'Anti-war', \n",
    "        'Doomsday film', 'Swashbuckler films', 'Comedy Western', 'Revisionist Western','Archaeology', 'Albino bias', 'Pornography', 'Science fiction Western', 'Hybrid Western', \n",
    "        'Exploitation', 'British New Wave', 'Foreign legion', 'Illnesses & Disabilities', \n",
    "        'Coming-of-age film', 'Heaven-Can-Wait Fantasies', 'Race movie', 'Movie serial', 'Indian Western', \n",
    "        'Bengali Cinema', 'News', 'Czechoslovak New Wave', 'Sponsored film', 'Sword and Sandal', 'Mythological Fantasy', \n",
    "        'Roadshow/Carny', 'Fictional film', 'Filmed Play', 'Z movie', 'Parkour in popular culture', 'Essay Film', \n",
    "        'Latino', 'Animals', 'Media Studies', 'Prison', 'Goat gland', 'Future noir', 'Auto racing', 'Fan film', \n",
    "        'Early Black Cinema', 'Existentialism', 'Airplanes and airports',\n",
    "        'Revisionist Western', 'Archaeology', 'Albino bias', 'Pornography', 'Gay pornography', \n",
    "        'Science fiction Western', 'Hybrid Western', 'Exploitation', 'British New Wave', 'Foreign legion', \n",
    "        'Illnesses & Disabilities', 'Coming-of-age film', 'Heaven-Can-Wait Fantasies', 'Race movie', 'Movie serial', \n",
    "        'Indian Western', 'Bengali Cinema', 'Gross-out film', 'Adult', 'Remake', 'Road movie', 'Rockumentary', 'Anti-war film',\n",
    "       'Hagiography', 'Female buddy film', 'Language & Literature',\n",
    "       'Malayalam Cinema', 'Extreme Sports', 'Jungle Film', 'Film',\n",
    "       'Film & Television History', 'Prison film', 'Epic Western',\n",
    "       'Beach Party film', 'Werewolf fiction', 'Archives and records',\n",
    "       'Acid western', 'Outlaw', 'Northern', 'Supermarionation',\n",
    "       'Demonic child', 'Kafkaesque', 'Clay animation', 'Concert film',\n",
    "       'Finance & Investing', 'Bruceploitation', 'Graphic & Applied Arts',\n",
    "       'Live action', 'Computers', 'Plague', 'Education',\n",
    "       'Therimin music', 'Libraries and librarians', 'Expressionism',\n",
    "       'Cold War', 'Point of view shot', 'Buddy cop',\n",
    "       'Inventions & Innovations', 'Star vehicle', 'New Queer Cinema',\n",
    "       'Camp', 'Master Criminal Films', 'Comdedy', 'Statutory rape',\n",
    "       'Alien invasion', 'Journalism', 'Reboot', 'Feminist Film', 'Gender Issues', 'Women in prison films', 'Women’s Studies', 'Feminist cinema', \n",
    "        'Women in film', 'Feminist documentary', 'Sexual Politics in Film'\n",
    "    ]\n",
    "}\n"
   ]
  },
  {
   "cell_type": "code",
   "execution_count": 30,
   "metadata": {},
   "outputs": [],
   "source": [
    "import json\n",
    "\n",
    "def extract_genres(genre_str):\n",
    "    try:\n",
    "        # Convert the genre string (which is in JSON format) to a dictionary\n",
    "        genre_dict = json.loads(genre_str)\n",
    "        # Extract genre names from the dictionary (the values)\n",
    "        genres = list(genre_dict.values())\n",
    "        return genres\n",
    "    except Exception as e:\n",
    "        # In case of an error in parsing, return an empty list or handle the error appropriately\n",
    "        return []"
   ]
  },
  {
   "cell_type": "code",
   "execution_count": 31,
   "metadata": {},
   "outputs": [],
   "source": [
    "movie_dataset['genres'] = movie_dataset['Movie genres (Freebase ID:name tuples)'].apply(extract_genres)"
   ]
  },
  {
   "cell_type": "code",
   "execution_count": 32,
   "metadata": {},
   "outputs": [],
   "source": [
    "import json\n",
    "\n",
    "\n",
    "# Function to preprocess genre column\n",
    "def extract_genres(genre_str):\n",
    "    try:\n",
    "        # Convert the genre string (which is in JSON format) to a dictionary\n",
    "        genre_dict = json.loads(genre_str)\n",
    "        # Extract genre names from the dictionary (the values)\n",
    "        genres = list(genre_dict.values())\n",
    "        return genres\n",
    "    except Exception as e:\n",
    "        # In case of an error in parsing, return an empty list or handle the error appropriately\n",
    "        return []\n",
    "\n",
    "genre_to_group = {}\n",
    "for group, genres_list in genres_grouped.items():\n",
    "    for genre in genres_list:\n",
    "        genre_to_group[genre] = group\n",
    "\n",
    "def categorize_genre(genre):\n",
    "    return genre_to_group.get(genre, 'Other')\n",
    "\n",
    "movie_dataset_explode_genre = movie_dataset.explode('genres')\n",
    "\n",
    "movie_dataset_explode_genre['genre_general'] = movie_dataset_explode_genre['genres'].apply(categorize_genre)\n"
   ]
  },
  {
   "cell_type": "code",
   "execution_count": 33,
   "metadata": {},
   "outputs": [],
   "source": [
    "movie_dataset_explode_genre['Period'] = pd.cut(\n",
    "    movie_dataset['Year'], \n",
    "    bins=[1940, 1960, 1980, 2010], \n",
    "    labels=['1940-1960', '1960-1980', '1980-2010'],\n",
    "    right=False\n",
    ")"
   ]
  },
  {
   "cell_type": "code",
   "execution_count": 34,
   "metadata": {},
   "outputs": [
    {
     "name": "stderr",
     "output_type": "stream",
     "text": [
      "/var/folders/dl/y_0dp4yd3sd1cf5mnxcnpt100000gn/T/ipykernel_35751/1786405178.py:1: FutureWarning: The default of observed=False is deprecated and will be changed to True in a future version of pandas. Pass observed=False to retain current behavior or observed=True to adopt the future default and silence this warning.\n",
      "  movie_dataset_per_genre_period = movie_dataset_explode_genre.groupby(['Period', 'genre_general']).agg(\n"
     ]
    }
   ],
   "source": [
    "movie_dataset_per_genre_period = movie_dataset_explode_genre.groupby(['Period', 'genre_general']).agg(\n",
    "    movies_feminist = ('feminism', 'sum'),\n",
    "    nb_total = ('Wikipedia movie ID', 'count')\n",
    ")"
   ]
  },
  {
   "cell_type": "code",
   "execution_count": 36,
   "metadata": {},
   "outputs": [],
   "source": [
    "movie_dataset_per_genre_period['percentage_feminism']= movie_dataset_per_genre_period['movies_feminist']/movie_dataset_per_genre_period['nb_total']"
   ]
  },
  {
   "cell_type": "code",
   "execution_count": 37,
   "metadata": {},
   "outputs": [
    {
     "data": {
      "text/html": [
       "<div>\n",
       "<style scoped>\n",
       "    .dataframe tbody tr th:only-of-type {\n",
       "        vertical-align: middle;\n",
       "    }\n",
       "\n",
       "    .dataframe tbody tr th {\n",
       "        vertical-align: top;\n",
       "    }\n",
       "\n",
       "    .dataframe thead th {\n",
       "        text-align: right;\n",
       "    }\n",
       "</style>\n",
       "<table border=\"1\" class=\"dataframe\">\n",
       "  <thead>\n",
       "    <tr style=\"text-align: right;\">\n",
       "      <th></th>\n",
       "      <th></th>\n",
       "      <th>movies_feminist</th>\n",
       "      <th>nb_total</th>\n",
       "      <th>percentage_feminism</th>\n",
       "    </tr>\n",
       "    <tr>\n",
       "      <th>Period</th>\n",
       "      <th>genre_general</th>\n",
       "      <th></th>\n",
       "      <th></th>\n",
       "      <th></th>\n",
       "    </tr>\n",
       "  </thead>\n",
       "  <tbody>\n",
       "    <tr>\n",
       "      <th rowspan=\"17\" valign=\"top\">1940-1960</th>\n",
       "      <th>Action and Adventure</th>\n",
       "      <td>681</td>\n",
       "      <td>2252</td>\n",
       "      <td>0.302398</td>\n",
       "    </tr>\n",
       "    <tr>\n",
       "      <th>Comedy</th>\n",
       "      <td>816</td>\n",
       "      <td>1768</td>\n",
       "      <td>0.461538</td>\n",
       "    </tr>\n",
       "    <tr>\n",
       "      <th>Crime and Mystery</th>\n",
       "      <td>741</td>\n",
       "      <td>1714</td>\n",
       "      <td>0.432322</td>\n",
       "    </tr>\n",
       "    <tr>\n",
       "      <th>Cult</th>\n",
       "      <td>21</td>\n",
       "      <td>62</td>\n",
       "      <td>0.338710</td>\n",
       "    </tr>\n",
       "    <tr>\n",
       "      <th>Documentary</th>\n",
       "      <td>68</td>\n",
       "      <td>138</td>\n",
       "      <td>0.492754</td>\n",
       "    </tr>\n",
       "    <tr>\n",
       "      <th>Drama</th>\n",
       "      <td>1265</td>\n",
       "      <td>2361</td>\n",
       "      <td>0.535790</td>\n",
       "    </tr>\n",
       "    <tr>\n",
       "      <th>Experimental</th>\n",
       "      <td>43</td>\n",
       "      <td>91</td>\n",
       "      <td>0.472527</td>\n",
       "    </tr>\n",
       "    <tr>\n",
       "      <th>Family and Kids</th>\n",
       "      <td>228</td>\n",
       "      <td>985</td>\n",
       "      <td>0.231472</td>\n",
       "    </tr>\n",
       "    <tr>\n",
       "      <th>History</th>\n",
       "      <td>120</td>\n",
       "      <td>231</td>\n",
       "      <td>0.519481</td>\n",
       "    </tr>\n",
       "    <tr>\n",
       "      <th>Horror and Thriller</th>\n",
       "      <td>374</td>\n",
       "      <td>913</td>\n",
       "      <td>0.409639</td>\n",
       "    </tr>\n",
       "    <tr>\n",
       "      <th>Indie</th>\n",
       "      <td>211</td>\n",
       "      <td>741</td>\n",
       "      <td>0.284750</td>\n",
       "    </tr>\n",
       "    <tr>\n",
       "      <th>Miscellaneous Other Genres</th>\n",
       "      <td>1372</td>\n",
       "      <td>2823</td>\n",
       "      <td>0.486008</td>\n",
       "    </tr>\n",
       "    <tr>\n",
       "      <th>Musical</th>\n",
       "      <td>313</td>\n",
       "      <td>466</td>\n",
       "      <td>0.671674</td>\n",
       "    </tr>\n",
       "    <tr>\n",
       "      <th>Other</th>\n",
       "      <td>22</td>\n",
       "      <td>45</td>\n",
       "      <td>0.488889</td>\n",
       "    </tr>\n",
       "    <tr>\n",
       "      <th>Romance</th>\n",
       "      <td>875</td>\n",
       "      <td>1182</td>\n",
       "      <td>0.740271</td>\n",
       "    </tr>\n",
       "    <tr>\n",
       "      <th>Sci-Fi and Fantasy</th>\n",
       "      <td>121</td>\n",
       "      <td>406</td>\n",
       "      <td>0.298030</td>\n",
       "    </tr>\n",
       "    <tr>\n",
       "      <th>Social Issues and Political Films</th>\n",
       "      <td>46</td>\n",
       "      <td>111</td>\n",
       "      <td>0.414414</td>\n",
       "    </tr>\n",
       "    <tr>\n",
       "      <th rowspan=\"17\" valign=\"top\">1960-1980</th>\n",
       "      <th>Action and Adventure</th>\n",
       "      <td>1043</td>\n",
       "      <td>3101</td>\n",
       "      <td>0.336343</td>\n",
       "    </tr>\n",
       "    <tr>\n",
       "      <th>Comedy</th>\n",
       "      <td>1100</td>\n",
       "      <td>2281</td>\n",
       "      <td>0.482245</td>\n",
       "    </tr>\n",
       "    <tr>\n",
       "      <th>Crime and Mystery</th>\n",
       "      <td>611</td>\n",
       "      <td>1382</td>\n",
       "      <td>0.442113</td>\n",
       "    </tr>\n",
       "    <tr>\n",
       "      <th>Cult</th>\n",
       "      <td>289</td>\n",
       "      <td>542</td>\n",
       "      <td>0.533210</td>\n",
       "    </tr>\n",
       "    <tr>\n",
       "      <th>Documentary</th>\n",
       "      <td>73</td>\n",
       "      <td>172</td>\n",
       "      <td>0.424419</td>\n",
       "    </tr>\n",
       "    <tr>\n",
       "      <th>Drama</th>\n",
       "      <td>1704</td>\n",
       "      <td>3200</td>\n",
       "      <td>0.532500</td>\n",
       "    </tr>\n",
       "    <tr>\n",
       "      <th>Experimental</th>\n",
       "      <td>73</td>\n",
       "      <td>125</td>\n",
       "      <td>0.584000</td>\n",
       "    </tr>\n",
       "    <tr>\n",
       "      <th>Family and Kids</th>\n",
       "      <td>288</td>\n",
       "      <td>817</td>\n",
       "      <td>0.352509</td>\n",
       "    </tr>\n",
       "    <tr>\n",
       "      <th>History</th>\n",
       "      <td>102</td>\n",
       "      <td>233</td>\n",
       "      <td>0.437768</td>\n",
       "    </tr>\n",
       "    <tr>\n",
       "      <th>Horror and Thriller</th>\n",
       "      <td>945</td>\n",
       "      <td>1876</td>\n",
       "      <td>0.503731</td>\n",
       "    </tr>\n",
       "    <tr>\n",
       "      <th>Indie</th>\n",
       "      <td>273</td>\n",
       "      <td>666</td>\n",
       "      <td>0.409910</td>\n",
       "    </tr>\n",
       "    <tr>\n",
       "      <th>Miscellaneous Other Genres</th>\n",
       "      <td>1667</td>\n",
       "      <td>3315</td>\n",
       "      <td>0.502866</td>\n",
       "    </tr>\n",
       "    <tr>\n",
       "      <th>Musical</th>\n",
       "      <td>360</td>\n",
       "      <td>593</td>\n",
       "      <td>0.607083</td>\n",
       "    </tr>\n",
       "    <tr>\n",
       "      <th>Other</th>\n",
       "      <td>37</td>\n",
       "      <td>64</td>\n",
       "      <td>0.578125</td>\n",
       "    </tr>\n",
       "    <tr>\n",
       "      <th>Romance</th>\n",
       "      <td>939</td>\n",
       "      <td>1351</td>\n",
       "      <td>0.695041</td>\n",
       "    </tr>\n",
       "    <tr>\n",
       "      <th>Sci-Fi and Fantasy</th>\n",
       "      <td>353</td>\n",
       "      <td>809</td>\n",
       "      <td>0.436341</td>\n",
       "    </tr>\n",
       "    <tr>\n",
       "      <th>Social Issues and Political Films</th>\n",
       "      <td>59</td>\n",
       "      <td>150</td>\n",
       "      <td>0.393333</td>\n",
       "    </tr>\n",
       "    <tr>\n",
       "      <th rowspan=\"17\" valign=\"top\">1980-2010</th>\n",
       "      <th>Action and Adventure</th>\n",
       "      <td>3249</td>\n",
       "      <td>9731</td>\n",
       "      <td>0.333881</td>\n",
       "    </tr>\n",
       "    <tr>\n",
       "      <th>Comedy</th>\n",
       "      <td>5342</td>\n",
       "      <td>10235</td>\n",
       "      <td>0.521935</td>\n",
       "    </tr>\n",
       "    <tr>\n",
       "      <th>Crime and Mystery</th>\n",
       "      <td>2319</td>\n",
       "      <td>5534</td>\n",
       "      <td>0.419046</td>\n",
       "    </tr>\n",
       "    <tr>\n",
       "      <th>Cult</th>\n",
       "      <td>882</td>\n",
       "      <td>1694</td>\n",
       "      <td>0.520661</td>\n",
       "    </tr>\n",
       "    <tr>\n",
       "      <th>Documentary</th>\n",
       "      <td>996</td>\n",
       "      <td>1770</td>\n",
       "      <td>0.562712</td>\n",
       "    </tr>\n",
       "    <tr>\n",
       "      <th>Drama</th>\n",
       "      <td>8428</td>\n",
       "      <td>14652</td>\n",
       "      <td>0.575212</td>\n",
       "    </tr>\n",
       "    <tr>\n",
       "      <th>Experimental</th>\n",
       "      <td>145</td>\n",
       "      <td>308</td>\n",
       "      <td>0.470779</td>\n",
       "    </tr>\n",
       "    <tr>\n",
       "      <th>Family and Kids</th>\n",
       "      <td>1841</td>\n",
       "      <td>4110</td>\n",
       "      <td>0.447932</td>\n",
       "    </tr>\n",
       "    <tr>\n",
       "      <th>History</th>\n",
       "      <td>504</td>\n",
       "      <td>959</td>\n",
       "      <td>0.525547</td>\n",
       "    </tr>\n",
       "    <tr>\n",
       "      <th>Horror and Thriller</th>\n",
       "      <td>4203</td>\n",
       "      <td>8744</td>\n",
       "      <td>0.480672</td>\n",
       "    </tr>\n",
       "    <tr>\n",
       "      <th>Indie</th>\n",
       "      <td>2111</td>\n",
       "      <td>3848</td>\n",
       "      <td>0.548597</td>\n",
       "    </tr>\n",
       "    <tr>\n",
       "      <th>Miscellaneous Other Genres</th>\n",
       "      <td>6749</td>\n",
       "      <td>12716</td>\n",
       "      <td>0.530749</td>\n",
       "    </tr>\n",
       "    <tr>\n",
       "      <th>Musical</th>\n",
       "      <td>1160</td>\n",
       "      <td>2092</td>\n",
       "      <td>0.554493</td>\n",
       "    </tr>\n",
       "    <tr>\n",
       "      <th>Other</th>\n",
       "      <td>104</td>\n",
       "      <td>209</td>\n",
       "      <td>0.497608</td>\n",
       "    </tr>\n",
       "    <tr>\n",
       "      <th>Romance</th>\n",
       "      <td>5165</td>\n",
       "      <td>7386</td>\n",
       "      <td>0.699296</td>\n",
       "    </tr>\n",
       "    <tr>\n",
       "      <th>Sci-Fi and Fantasy</th>\n",
       "      <td>1688</td>\n",
       "      <td>3928</td>\n",
       "      <td>0.429735</td>\n",
       "    </tr>\n",
       "    <tr>\n",
       "      <th>Social Issues and Political Films</th>\n",
       "      <td>331</td>\n",
       "      <td>714</td>\n",
       "      <td>0.463585</td>\n",
       "    </tr>\n",
       "  </tbody>\n",
       "</table>\n",
       "</div>"
      ],
      "text/plain": [
       "                                             movies_feminist  nb_total  \\\n",
       "Period    genre_general                                                  \n",
       "1940-1960 Action and Adventure                           681      2252   \n",
       "          Comedy                                         816      1768   \n",
       "          Crime and Mystery                              741      1714   \n",
       "          Cult                                            21        62   \n",
       "          Documentary                                     68       138   \n",
       "          Drama                                         1265      2361   \n",
       "          Experimental                                    43        91   \n",
       "          Family and Kids                                228       985   \n",
       "          History                                        120       231   \n",
       "          Horror and Thriller                            374       913   \n",
       "          Indie                                          211       741   \n",
       "          Miscellaneous Other Genres                    1372      2823   \n",
       "          Musical                                        313       466   \n",
       "          Other                                           22        45   \n",
       "          Romance                                        875      1182   \n",
       "          Sci-Fi and Fantasy                             121       406   \n",
       "          Social Issues and Political Films               46       111   \n",
       "1960-1980 Action and Adventure                          1043      3101   \n",
       "          Comedy                                        1100      2281   \n",
       "          Crime and Mystery                              611      1382   \n",
       "          Cult                                           289       542   \n",
       "          Documentary                                     73       172   \n",
       "          Drama                                         1704      3200   \n",
       "          Experimental                                    73       125   \n",
       "          Family and Kids                                288       817   \n",
       "          History                                        102       233   \n",
       "          Horror and Thriller                            945      1876   \n",
       "          Indie                                          273       666   \n",
       "          Miscellaneous Other Genres                    1667      3315   \n",
       "          Musical                                        360       593   \n",
       "          Other                                           37        64   \n",
       "          Romance                                        939      1351   \n",
       "          Sci-Fi and Fantasy                             353       809   \n",
       "          Social Issues and Political Films               59       150   \n",
       "1980-2010 Action and Adventure                          3249      9731   \n",
       "          Comedy                                        5342     10235   \n",
       "          Crime and Mystery                             2319      5534   \n",
       "          Cult                                           882      1694   \n",
       "          Documentary                                    996      1770   \n",
       "          Drama                                         8428     14652   \n",
       "          Experimental                                   145       308   \n",
       "          Family and Kids                               1841      4110   \n",
       "          History                                        504       959   \n",
       "          Horror and Thriller                           4203      8744   \n",
       "          Indie                                         2111      3848   \n",
       "          Miscellaneous Other Genres                    6749     12716   \n",
       "          Musical                                       1160      2092   \n",
       "          Other                                          104       209   \n",
       "          Romance                                       5165      7386   \n",
       "          Sci-Fi and Fantasy                            1688      3928   \n",
       "          Social Issues and Political Films              331       714   \n",
       "\n",
       "                                             percentage_feminism  \n",
       "Period    genre_general                                           \n",
       "1940-1960 Action and Adventure                          0.302398  \n",
       "          Comedy                                        0.461538  \n",
       "          Crime and Mystery                             0.432322  \n",
       "          Cult                                          0.338710  \n",
       "          Documentary                                   0.492754  \n",
       "          Drama                                         0.535790  \n",
       "          Experimental                                  0.472527  \n",
       "          Family and Kids                               0.231472  \n",
       "          History                                       0.519481  \n",
       "          Horror and Thriller                           0.409639  \n",
       "          Indie                                         0.284750  \n",
       "          Miscellaneous Other Genres                    0.486008  \n",
       "          Musical                                       0.671674  \n",
       "          Other                                         0.488889  \n",
       "          Romance                                       0.740271  \n",
       "          Sci-Fi and Fantasy                            0.298030  \n",
       "          Social Issues and Political Films             0.414414  \n",
       "1960-1980 Action and Adventure                          0.336343  \n",
       "          Comedy                                        0.482245  \n",
       "          Crime and Mystery                             0.442113  \n",
       "          Cult                                          0.533210  \n",
       "          Documentary                                   0.424419  \n",
       "          Drama                                         0.532500  \n",
       "          Experimental                                  0.584000  \n",
       "          Family and Kids                               0.352509  \n",
       "          History                                       0.437768  \n",
       "          Horror and Thriller                           0.503731  \n",
       "          Indie                                         0.409910  \n",
       "          Miscellaneous Other Genres                    0.502866  \n",
       "          Musical                                       0.607083  \n",
       "          Other                                         0.578125  \n",
       "          Romance                                       0.695041  \n",
       "          Sci-Fi and Fantasy                            0.436341  \n",
       "          Social Issues and Political Films             0.393333  \n",
       "1980-2010 Action and Adventure                          0.333881  \n",
       "          Comedy                                        0.521935  \n",
       "          Crime and Mystery                             0.419046  \n",
       "          Cult                                          0.520661  \n",
       "          Documentary                                   0.562712  \n",
       "          Drama                                         0.575212  \n",
       "          Experimental                                  0.470779  \n",
       "          Family and Kids                               0.447932  \n",
       "          History                                       0.525547  \n",
       "          Horror and Thriller                           0.480672  \n",
       "          Indie                                         0.548597  \n",
       "          Miscellaneous Other Genres                    0.530749  \n",
       "          Musical                                       0.554493  \n",
       "          Other                                         0.497608  \n",
       "          Romance                                       0.699296  \n",
       "          Sci-Fi and Fantasy                            0.429735  \n",
       "          Social Issues and Political Films             0.463585  "
      ]
     },
     "metadata": {},
     "output_type": "display_data"
    }
   ],
   "source": [
    "display(movie_dataset_per_genre_period)"
   ]
  },
  {
   "cell_type": "code",
   "execution_count": null,
   "metadata": {},
   "outputs": [
    {
     "data": {
      "image/png": "[encoded data removed]",
      "text/plain": [
       "<Figure size 1000x600 with 1 Axes>"
      ]
     },
     "metadata": {},
     "output_type": "display_data"
    },
    {
     "data": {
      "image/png": "[encoded data removed]",
      "text/plain": [
       "<Figure size 1000x600 with 1 Axes>"
      ]
     },
     "metadata": {},
     "output_type": "display_data"
    },
    {
     "data": {
      "image/png": "[encoded data removed]",
      "text/plain": [
       "<Figure size 1000x600 with 1 Axes>"
      ]
     },
     "metadata": {},
     "output_type": "display_data"
    }
   ],
   "source": [
    "periods = ['1940-1960', '1960-1980', '1980-2010']\n",
    "\n",
    "genres = movie_dataset_per_genre_period.index.get_level_values('genre_general').unique()\n",
    "genre_colors = {genre: plt.cm.tab20(i / len(genres)) for i, genre in enumerate(genres)}\n",
    "\n",
    "def plot_period_data(period):\n",
    "    period_data = movie_dataset_per_genre_period.loc[period]\n",
    "    \n",
    "    period_data = period_data.sort_values(by='percentage_feminism', ascending=False)\n",
    "    \n",
    "    plt.figure(figsize=(10, 6))\n",
    "    bars = plt.bar(\n",
    "        period_data.index, \n",
    "        period_data['percentage_feminism'], \n",
    "        color=[genre_colors[genre] for genre in period_data.index]\n",
    "    )\n",
    "    plt.title(f'Percentage of feminist movies per genre in \\n({period})')\n",
    "    plt.xticks(rotation=90)  \n",
    "    plt.ylabel('Percentage')\n",
    "    plt.xlabel('Genre')\n",
    "    plt.show()\n",
    "\n",
    "for period in periods:\n",
    "    plot_period_data(period)"
   ]
  },
  {
   "cell_type": "code",
   "execution_count": null,
   "metadata": {},
   "outputs": [],
   "source": [
    "genres = movie_dataset_per_genre_period.index.get_level_values('genre_general').unique()\n",
    "genre_colors = {genre: px.colors.qualitative.Set3[i % len(px.colors.qualitative.Set3)] \n",
    "                for i, genre in enumerate(genres)}\n",
    "\n",
    "def save_period_plot_html(period):\n",
    "    period_data = movie_dataset_per_genre_period.loc[period].reset_index()\n",
    "    \n",
    "    fig = px.bar(\n",
    "        period_data,\n",
    "        x='genre_general',\n",
    "        y='percentage_feminism',\n",
    "        title=f'Percentage of feminist movies per genre in \\n({period})',\n",
    "        color='genre_general',\n",
    "        color_discrete_map=genre_colors\n",
    "    )\n",
    "    \n",
    "    fig.update_layout(\n",
    "        xaxis_title=\"Genre\",\n",
    "        yaxis_title=\"Percentage\",\n",
    "        xaxis_tickangle=90,\n",
    "        template=\"plotly_white\"\n",
    "    )\n",
    "\n",
    "    file_name = f\"percentage_feminism_{period.replace('-', '_')}.html\"\n",
    "    pio.write_html(fig, file=file_name)\n",
    "\n",
    "for period in periods:\n",
    "    save_period_plot_html(period)"
   ]
  },
  {
   "cell_type": "markdown",
   "metadata": {},
   "source": [
    "# Oscars and nominees"
   ]
  },
  {
   "cell_type": "code",
   "execution_count": 43,
   "metadata": {},
   "outputs": [],
   "source": [
    "oscars_percentage = pd.merge(movie_dataset, oscars_df, left_on = 'Movie name', right_on = 'Film', how='inner')"
   ]
  },
  {
   "cell_type": "code",
   "execution_count": 44,
   "metadata": {},
   "outputs": [
    {
     "data": {
      "text/plain": [
       "Index(['Unnamed: 0', 'Wikipedia movie ID', 'Summaries', 'Freebase movie ID',\n",
       "       'Movie name', 'Movie release date', 'Movie box office revenue',\n",
       "       'Movie runtime', 'Movie languages (Freebase ID:name tuples)',\n",
       "       'Movie countries (Freebase ID:name tuples)',\n",
       "       'Movie genres (Freebase ID:name tuples)', 'Year',\n",
       "       'Country dictionnaire', 'Genre dictionnaire', 'Language dictionnaire',\n",
       "       'feminism', 'genres', 'Period', 'Film', 'Award', 'IMDB Rating'],\n",
       "      dtype='object')"
      ]
     },
     "execution_count": 44,
     "metadata": {},
     "output_type": "execute_result"
    }
   ],
   "source": [
    "oscars_percentage.columns"
   ]
  },
  {
   "cell_type": "code",
   "execution_count": 45,
   "metadata": {},
   "outputs": [],
   "source": [
    "columns_to_keep = ['Movie name', 'feminism', 'Award']\n",
    "oscars_percentage = oscars_percentage[columns_to_keep]"
   ]
  },
  {
   "cell_type": "code",
   "execution_count": 47,
   "metadata": {},
   "outputs": [],
   "source": [
    "result_oscar = oscars_percentage.groupby('Award').agg(\n",
    "    movies_feminist = ('feminism', 'sum'),\n",
    "    nb_total = ('Movie name', 'count')\n",
    "    )"
   ]
  },
  {
   "cell_type": "code",
   "execution_count": null,
   "metadata": {},
   "outputs": [
    {
     "data": {
      "image/png": "[encoded data removed]",
      "text/plain": [
       "<Figure size 1200x600 with 2 Axes>"
      ]
     },
     "metadata": {},
     "output_type": "display_data"
    }
   ],
   "source": [
    "colors = ['salmon', 'lightgrey']\n",
    "\n",
    "fig, axes = plt.subplots(1, 2, figsize=(12, 6))\n",
    "\n",
    "axes[0].pie(\n",
    "    [result_oscar.loc['Winner', 'movies_feminist'], \n",
    "     result_oscar.loc['Winner', 'nb_total'] - result_oscar.loc['Winner', 'movies_feminist']],\n",
    "    labels=['Feminist', 'Non-Feminist'],\n",
    "    colors=colors,\n",
    "    autopct='%1.1f%%',\n",
    "    startangle=140\n",
    ")\n",
    "axes[0].set_title(\"Percentage of feminist movies that won an Oscar\")\n",
    "\n",
    "axes[1].pie(\n",
    "    [result_oscar.loc['Nominee', 'movies_feminist'], \n",
    "     result_oscar.loc['Nominee', 'nb_total'] - result_oscar.loc['Nominee', 'movies_feminist']],\n",
    "    labels=['Feminist', 'Non-Feminist'],\n",
    "    colors=colors,\n",
    "    autopct='%1.1f%%',\n",
    "    startangle=140\n",
    ")\n",
    "axes[1].set_title(\"Percentage of films that were nominated for an Oscar\")\n",
    "\n",
    "plt.tight_layout()\n",
    "plt.show()"
   ]
  },
  {
   "cell_type": "code",
   "execution_count": null,
   "metadata": {},
   "outputs": [],
   "source": [
    "import plotly.graph_objects as go\n",
    "\n",
    "labels = ['Feminist', 'Non-Feminist']\n",
    "colors = ['salmon', 'lightgrey']\n",
    "\n",
    "winner_feminist = result_oscar.loc['Winner', 'movies_feminist']\n",
    "winner_non_feminist = result_oscar.loc['Winner', 'nb_total'] - winner_feminist\n",
    "\n",
    "nominee_feminist = result_oscar.loc['Nominee', 'movies_feminist']\n",
    "nominee_non_feminist = result_oscar.loc['Nominee', 'nb_total'] - nominee_feminist\n",
    "\n",
    "fig_combined = go.Figure()\n",
    "\n",
    "fig_combined.add_trace(go.Pie(\n",
    "    labels=labels,\n",
    "    values=[winner_feminist, winner_non_feminist],\n",
    "    marker=dict(colors=colors),\n",
    "    textinfo='percent',\n",
    "    hole=0.3,\n",
    "    name='Winner'\n",
    "))\n",
    "\n",
    "fig_combined.add_trace(go.Pie(\n",
    "    labels=labels,\n",
    "    values=[nominee_feminist, nominee_non_feminist],\n",
    "    marker=dict(colors=colors),\n",
    "    textinfo='percent',\n",
    "    hole=0.3,\n",
    "    name='Nominee',\n",
    "    domain=dict(x=[0.55, 1])\n",
    "))\n",
    "\n",
    "fig_combined.update_layout(\n",
    "    title=\"Feminist Movies in Oscar Winners and Nominees\",\n",
    "    annotations=[\n",
    "        dict(text='Winner', x=0.25, y=0.5, font_size=20, showarrow=False),\n",
    "        dict(text='Nominee', x=0.75, y=0.5, font_size=20, showarrow=False)\n",
    "    ]\n",
    ")\n",
    "\n",
    "fig_combined.write_html('combined_oscar_feminist_pie_charts.html')"
   ]
  },
  {
   "cell_type": "code",
   "execution_count": 57,
   "metadata": {},
   "outputs": [],
   "source": [
    "import ast\n",
    "\n",
    "movie_dataset['Country dictionnaire'] = movie_dataset['Movie countries (Freebase ID:name tuples)'].apply(\n",
    "    lambda x: ast.literal_eval(x) if isinstance(x, str) else []\n",
    ")\n",
    "\n",
    "movie_dataset_explode_country = movie_dataset.explode('Country dictionnaire')\n",
    "\n",
    "movies_per_country = movie_dataset_explode_country.groupby(['Country dictionnaire', 'Year']).agg(\n",
    "    total_movies=('Wikipedia movie ID', 'count'),\n",
    "    feminist_movies=('feminism', 'sum')  # Somme des valeurs True\n",
    ").reset_index()"
   ]
  },
  {
   "cell_type": "code",
   "execution_count": 59,
   "metadata": {},
   "outputs": [],
   "source": [
    "films_per_country = movie_dataset_explode_country.groupby('Country dictionnaire').size().reset_index(name='total_movies')\n",
    "top_5_countries = films_per_country.sort_values(by='total_movies', ascending=False).head(5)\n",
    "top_countries_name = ['United States of America', \"India\", 'United Kingdom', 'France', 'Italy']\n"
   ]
  },
  {
   "cell_type": "code",
   "execution_count": 60,
   "metadata": {},
   "outputs": [],
   "source": [
    "movies_per_country['percentage'] = movies_per_country['feminist_movies']/movies_per_country['total_movies']"
   ]
  },
  {
   "cell_type": "code",
   "execution_count": 63,
   "metadata": {},
   "outputs": [],
   "source": [
    "movies_per_country = movies_per_country[(movies_per_country['Year'] >= 1960) & (movies_per_country['Year'] < 2008)]"
   ]
  },
  {
   "cell_type": "code",
   "execution_count": 69,
   "metadata": {},
   "outputs": [
    {
     "data": {
      "application/vnd.plotly.v1+json": {
       "config": {
        "plotlyServerURL": "https://plot.ly"
       },
       "data": [
        {
         "hovertemplate": "<b>United States of America</b><br>Year: {x}<br>Percentage: {y:.2f}%",
         "mode": "lines",
         "name": "United States of America",
         "type": "scatter",
         "x": [
          1960,
          1961,
          1962,
          1963,
          1964,
          1965,
          1966,
          1967,
          1968,
          1969,
          1970,
          1971,
          1972,
          1973,
          1974,
          1975,
          1976,
          1977,
          1978,
          1979,
          1980,
          1981,
          1982,
          1983,
          1984,
          1985,
          1986,
          1987,
          1988,
          1989,
          1990,
          1991,
          1992,
          1993,
          1994,
          1995,
          1996,
          1997,
          1998,
          1999,
          2000,
          2001,
          2002,
          2003,
          2004,
          2005,
          2006,
          2007
         ],
         "y": [
          0.45,
          0.5137614678899083,
          0.4642857142857143,
          0.44339622641509435,
          0.5853658536585366,
          0.5083333333333333,
          0.43410852713178294,
          0.3798449612403101,
          0.4793388429752066,
          0.38524590163934425,
          0.48175182481751827,
          0.42142857142857143,
          0.4217687074829932,
          0.4405594405594406,
          0.4899328859060403,
          0.45081967213114754,
          0.4485294117647059,
          0.4696969696969697,
          0.5,
          0.5571428571428572,
          0.4782608695652174,
          0.5125,
          0.5260115606936416,
          0.49122807017543857,
          0.46464646464646464,
          0.49537037037037035,
          0.4831932773109244,
          0.4854014598540146,
          0.46366782006920415,
          0.4795539033457249,
          0.4657534246575342,
          0.4626865671641791,
          0.4794007490636704,
          0.40939597315436244,
          0.45588235294117646,
          0.5179153094462541,
          0.5229885057471264,
          0.49184782608695654,
          0.49056603773584906,
          0.4946236559139785,
          0.5012919896640827,
          0.5035971223021583,
          0.5202702702702703,
          0.47368421052631576,
          0.4824561403508772,
          0.5287958115183246,
          0.5,
          0.5352323838080959
         ]
        },
        {
         "hovertemplate": "<b>India</b><br>Year: {x}<br>Percentage: {y:.2f}%",
         "mode": "lines",
         "name": "India",
         "type": "scatter",
         "x": [
          1960,
          1961,
          1962,
          1963,
          1964,
          1965,
          1966,
          1967,
          1968,
          1969,
          1970,
          1971,
          1972,
          1973,
          1974,
          1975,
          1976,
          1977,
          1978,
          1979,
          1980,
          1981,
          1982,
          1983,
          1984,
          1985,
          1986,
          1987,
          1988,
          1989,
          1990,
          1991,
          1992,
          1993,
          1994,
          1995,
          1996,
          1997,
          1998,
          1999,
          2000,
          2001,
          2002,
          2003,
          2004,
          2005,
          2006,
          2007
         ],
         "y": [
          0.4,
          0.6666666666666666,
          0.56,
          0.5882352941176471,
          0.6,
          0.5666666666666667,
          0.5,
          0.6071428571428571,
          0.5384615384615384,
          0.52,
          0.6,
          0.5454545454545454,
          0.5,
          0.5151515151515151,
          0.7272727272727273,
          0.5789473684210527,
          0.5833333333333334,
          0.65,
          0.6046511627906976,
          0.5384615384615384,
          0.5625,
          0.54,
          0.4528301886792453,
          0.5294117647058824,
          0.47368421052631576,
          0.5303030303030303,
          0.5833333333333334,
          0.4897959183673469,
          0.4827586206896552,
          0.43243243243243246,
          0.4722222222222222,
          0.5609756097560976,
          0.463768115942029,
          0.5357142857142857,
          0.5373134328358209,
          0.44776119402985076,
          0.5308641975308642,
          0.4367816091954023,
          0.5131578947368421,
          0.5959595959595959,
          0.5514018691588785,
          0.47580645161290325,
          0.5277777777777778,
          0.5266272189349113,
          0.4941860465116279,
          0.6130653266331658,
          0.5124378109452736,
          0.5656108597285068
         ]
        },
        {
         "hovertemplate": "<b>United Kingdom</b><br>Year: {x}<br>Percentage: {y:.2f}%",
         "mode": "lines",
         "name": "United Kingdom",
         "type": "scatter",
         "x": [
          1960,
          1961,
          1962,
          1963,
          1964,
          1965,
          1966,
          1967,
          1968,
          1969,
          1970,
          1971,
          1972,
          1973,
          1974,
          1975,
          1976,
          1977,
          1978,
          1979,
          1980,
          1981,
          1982,
          1983,
          1984,
          1985,
          1986,
          1987,
          1988,
          1989,
          1990,
          1991,
          1992,
          1993,
          1994,
          1995,
          1996,
          1997,
          1998,
          1999,
          2000,
          2001,
          2002,
          2003,
          2004,
          2005,
          2006,
          2007
         ],
         "y": [
          0.4583333333333333,
          0.43243243243243246,
          0.475,
          0.4634146341463415,
          0.5476190476190477,
          0.46808510638297873,
          0.5,
          0.5,
          0.4423076923076923,
          0.6,
          0.45098039215686275,
          0.5098039215686274,
          0.46938775510204084,
          0.37142857142857144,
          0.43902439024390244,
          0.3333333333333333,
          0.46153846153846156,
          0.5333333333333333,
          0.28125,
          0.4411764705882353,
          0.5151515151515151,
          0.16666666666666666,
          0.43478260869565216,
          0.39285714285714285,
          0.5714285714285714,
          0.5277777777777778,
          0.41379310344827586,
          0.4473684210526316,
          0.475,
          0.475,
          0.5365853658536586,
          0.6,
          0.5227272727272727,
          0.5641025641025641,
          0.5833333333333334,
          0.5862068965517241,
          0.4716981132075472,
          0.5846153846153846,
          0.4927536231884058,
          0.48,
          0.49382716049382713,
          0.5584415584415584,
          0.5357142857142857,
          0.5887850467289719,
          0.5511811023622047,
          0.552,
          0.5196850393700787,
          0.5808823529411765
         ]
        },
        {
         "hovertemplate": "<b>France</b><br>Year: {x}<br>Percentage: {y:.2f}%",
         "mode": "lines",
         "name": "France",
         "type": "scatter",
         "x": [
          1960,
          1961,
          1962,
          1963,
          1964,
          1965,
          1966,
          1967,
          1968,
          1969,
          1970,
          1971,
          1972,
          1973,
          1974,
          1975,
          1976,
          1977,
          1978,
          1979,
          1980,
          1981,
          1982,
          1983,
          1984,
          1985,
          1986,
          1987,
          1988,
          1989,
          1990,
          1991,
          1992,
          1993,
          1994,
          1995,
          1996,
          1997,
          1998,
          1999,
          2000,
          2001,
          2002,
          2003,
          2004,
          2005,
          2006,
          2007
         ],
         "y": [
          0.7058823529411765,
          0.6666666666666666,
          0.7619047619047619,
          0.5555555555555556,
          0.5555555555555556,
          0.4782608695652174,
          0.4,
          0.44,
          0.4782608695652174,
          0.4583333333333333,
          0.5882352941176471,
          0.6521739130434783,
          0.45454545454545453,
          0.5483870967741935,
          0.5789473684210527,
          0.7222222222222222,
          0.4782608695652174,
          0.625,
          0.8,
          0.5714285714285714,
          0.7142857142857143,
          0.6,
          0.5454545454545454,
          0.5,
          0.6666666666666666,
          0.5925925925925926,
          0.6190476190476191,
          0.7222222222222222,
          0.5185185185185185,
          0.5625,
          0.5416666666666666,
          0.6333333333333333,
          0.53125,
          0.5483870967741935,
          0.6444444444444445,
          0.46511627906976744,
          0.6176470588235294,
          0.6046511627906976,
          0.5576923076923077,
          0.4888888888888889,
          0.6166666666666667,
          0.6557377049180327,
          0.5975609756097561,
          0.6231884057971014,
          0.6463414634146342,
          0.4805194805194805,
          0.5180722891566265,
          0.673469387755102
         ]
        },
        {
         "hovertemplate": "<b>Italy</b><br>Year: {x}<br>Percentage: {y:.2f}%",
         "mode": "lines",
         "name": "Italy",
         "type": "scatter",
         "x": [
          1961,
          1963,
          1964,
          1966,
          1967,
          1968,
          1969,
          1970,
          1971,
          1972,
          1973,
          1974,
          1975,
          1976,
          1977,
          1978,
          1979,
          1980,
          1981,
          1982,
          1983,
          1984,
          1985,
          1986,
          1987,
          1988,
          1989,
          1990,
          1991,
          1992,
          1993,
          1994,
          1995,
          1996,
          1997,
          1998,
          1999,
          2000,
          2001,
          2002,
          2003,
          2004,
          2005,
          2006,
          2007
         ],
         "y": [
          0,
          0,
          0,
          1,
          0.5,
          0.5,
          0.6666666666666666,
          0.5,
          0.5,
          0.5,
          0.625,
          0.5454545454545454,
          0.3333333333333333,
          0.5,
          0.6666666666666666,
          0.625,
          0.125,
          0.47368421052631576,
          0.5833333333333334,
          0.375,
          0.2631578947368421,
          0.46153846153846156,
          0.6363636363636364,
          0.4,
          0.4166666666666667,
          0.6470588235294118,
          0.35294117647058826,
          0.5333333333333333,
          0.5454545454545454,
          0.4,
          0.35294117647058826,
          0.631578947368421,
          0.5454545454545454,
          0.4166666666666667,
          0.3684210526315789,
          0.4117647058823529,
          0.6666666666666666,
          0.576271186440678,
          0.5714285714285714,
          0.6463414634146342,
          0.4931506849315068,
          0.5166666666666667,
          0.5070422535211268,
          0.5981308411214953,
          0.5454545454545454
         ]
        }
       ],
       "layout": {
        "hovermode": "x unified",
        "legend": {
         "title": {
          "text": "Country"
         }
        },
        "template": {
         "data": {
          "bar": [
           {
            "error_x": {
             "color": "#2a3f5f"
            },
            "error_y": {
             "color": "#2a3f5f"
            },
            "marker": {
             "line": {
              "color": "white",
              "width": 0.5
             },
             "pattern": {
              "fillmode": "overlay",
              "size": 10,
              "solidity": 0.2
             }
            },
            "type": "bar"
           }
          ],
          "barpolar": [
           {
            "marker": {
             "line": {
              "color": "white",
              "width": 0.5
             },
             "pattern": {
              "fillmode": "overlay",
              "size": 10,
              "solidity": 0.2
             }
            },
            "type": "barpolar"
           }
          ],
          "carpet": [
           {
            "aaxis": {
             "endlinecolor": "#2a3f5f",
             "gridcolor": "#C8D4E3",
             "linecolor": "#C8D4E3",
             "minorgridcolor": "#C8D4E3",
             "startlinecolor": "#2a3f5f"
            },
            "baxis": {
             "endlinecolor": "#2a3f5f",
             "gridcolor": "#C8D4E3",
             "linecolor": "#C8D4E3",
             "minorgridcolor": "#C8D4E3",
             "startlinecolor": "#2a3f5f"
            },
            "type": "carpet"
           }
          ],
          "choropleth": [
           {
            "colorbar": {
             "outlinewidth": 0,
             "ticks": ""
            },
            "type": "choropleth"
           }
          ],
          "contour": [
           {
            "colorbar": {
             "outlinewidth": 0,
             "ticks": ""
            },
            "colorscale": [
             [
              0,
              "#0d0887"
             ],
             [
              0.1111111111111111,
              "#46039f"
             ],
             [
              0.2222222222222222,
              "#7201a8"
             ],
             [
              0.3333333333333333,
              "#9c179e"
             ],
             [
              0.4444444444444444,
              "#bd3786"
             ],
             [
              0.5555555555555556,
              "#d8576b"
             ],
             [
              0.6666666666666666,
              "#ed7953"
             ],
             [
              0.7777777777777778,
              "#fb9f3a"
             ],
             [
              0.8888888888888888,
              "#fdca26"
             ],
             [
              1,
              "#f0f921"
             ]
            ],
            "type": "contour"
           }
          ],
          "contourcarpet": [
           {
            "colorbar": {
             "outlinewidth": 0,
             "ticks": ""
            },
            "type": "contourcarpet"
           }
          ],
          "heatmap": [
           {
            "colorbar": {
             "outlinewidth": 0,
             "ticks": ""
            },
            "colorscale": [
             [
              0,
              "#0d0887"
             ],
             [
              0.1111111111111111,
              "#46039f"
             ],
             [
              0.2222222222222222,
              "#7201a8"
             ],
             [
              0.3333333333333333,
              "#9c179e"
             ],
             [
              0.4444444444444444,
              "#bd3786"
             ],
             [
              0.5555555555555556,
              "#d8576b"
             ],
             [
              0.6666666666666666,
              "#ed7953"
             ],
             [
              0.7777777777777778,
              "#fb9f3a"
             ],
             [
              0.8888888888888888,
              "#fdca26"
             ],
             [
              1,
              "#f0f921"
             ]
            ],
            "type": "heatmap"
           }
          ],
          "heatmapgl": [
           {
            "colorbar": {
             "outlinewidth": 0,
             "ticks": ""
            },
            "colorscale": [
             [
              0,
              "#0d0887"
             ],
             [
              0.1111111111111111,
              "#46039f"
             ],
             [
              0.2222222222222222,
              "#7201a8"
             ],
             [
              0.3333333333333333,
              "#9c179e"
             ],
             [
              0.4444444444444444,
              "#bd3786"
             ],
             [
              0.5555555555555556,
              "#d8576b"
             ],
             [
              0.6666666666666666,
              "#ed7953"
             ],
             [
              0.7777777777777778,
              "#fb9f3a"
             ],
             [
              0.8888888888888888,
              "#fdca26"
             ],
             [
              1,
              "#f0f921"
             ]
            ],
            "type": "heatmapgl"
           }
          ],
          "histogram": [
           {
            "marker": {
             "pattern": {
              "fillmode": "overlay",
              "size": 10,
              "solidity": 0.2
             }
            },
            "type": "histogram"
           }
          ],
          "histogram2d": [
           {
            "colorbar": {
             "outlinewidth": 0,
             "ticks": ""
            },
            "colorscale": [
             [
              0,
              "#0d0887"
             ],
             [
              0.1111111111111111,
              "#46039f"
             ],
             [
              0.2222222222222222,
              "#7201a8"
             ],
             [
              0.3333333333333333,
              "#9c179e"
             ],
             [
              0.4444444444444444,
              "#bd3786"
             ],
             [
              0.5555555555555556,
              "#d8576b"
             ],
             [
              0.6666666666666666,
              "#ed7953"
             ],
             [
              0.7777777777777778,
              "#fb9f3a"
             ],
             [
              0.8888888888888888,
              "#fdca26"
             ],
             [
              1,
              "#f0f921"
             ]
            ],
            "type": "histogram2d"
           }
          ],
          "histogram2dcontour": [
           {
            "colorbar": {
             "outlinewidth": 0,
             "ticks": ""
            },
            "colorscale": [
             [
              0,
              "#0d0887"
             ],
             [
              0.1111111111111111,
              "#46039f"
             ],
             [
              0.2222222222222222,
              "#7201a8"
             ],
             [
              0.3333333333333333,
              "#9c179e"
             ],
             [
              0.4444444444444444,
              "#bd3786"
             ],
             [
              0.5555555555555556,
              "#d8576b"
             ],
             [
              0.6666666666666666,
              "#ed7953"
             ],
             [
              0.7777777777777778,
              "#fb9f3a"
             ],
             [
              0.8888888888888888,
              "#fdca26"
             ],
             [
              1,
              "#f0f921"
             ]
            ],
            "type": "histogram2dcontour"
           }
          ],
          "mesh3d": [
           {
            "colorbar": {
             "outlinewidth": 0,
             "ticks": ""
            },
            "type": "mesh3d"
           }
          ],
          "parcoords": [
           {
            "line": {
             "colorbar": {
              "outlinewidth": 0,
              "ticks": ""
             }
            },
            "type": "parcoords"
           }
          ],
          "pie": [
           {
            "automargin": true,
            "type": "pie"
           }
          ],
          "scatter": [
           {
            "fillpattern": {
             "fillmode": "overlay",
             "size": 10,
             "solidity": 0.2
            },
            "type": "scatter"
           }
          ],
          "scatter3d": [
           {
            "line": {
             "colorbar": {
              "outlinewidth": 0,
              "ticks": ""
             }
            },
            "marker": {
             "colorbar": {
              "outlinewidth": 0,
              "ticks": ""
             }
            },
            "type": "scatter3d"
           }
          ],
          "scattercarpet": [
           {
            "marker": {
             "colorbar": {
              "outlinewidth": 0,
              "ticks": ""
             }
            },
            "type": "scattercarpet"
           }
          ],
          "scattergeo": [
           {
            "marker": {
             "colorbar": {
              "outlinewidth": 0,
              "ticks": ""
             }
            },
            "type": "scattergeo"
           }
          ],
          "scattergl": [
           {
            "marker": {
             "colorbar": {
              "outlinewidth": 0,
              "ticks": ""
             }
            },
            "type": "scattergl"
           }
          ],
          "scattermapbox": [
           {
            "marker": {
             "colorbar": {
              "outlinewidth": 0,
              "ticks": ""
             }
            },
            "type": "scattermapbox"
           }
          ],
          "scatterpolar": [
           {
            "marker": {
             "colorbar": {
              "outlinewidth": 0,
              "ticks": ""
             }
            },
            "type": "scatterpolar"
           }
          ],
          "scatterpolargl": [
           {
            "marker": {
             "colorbar": {
              "outlinewidth": 0,
              "ticks": ""
             }
            },
            "type": "scatterpolargl"
           }
          ],
          "scatterternary": [
           {
            "marker": {
             "colorbar": {
              "outlinewidth": 0,
              "ticks": ""
             }
            },
            "type": "scatterternary"
           }
          ],
          "surface": [
           {
            "colorbar": {
             "outlinewidth": 0,
             "ticks": ""
            },
            "colorscale": [
             [
              0,
              "#0d0887"
             ],
             [
              0.1111111111111111,
              "#46039f"
             ],
             [
              0.2222222222222222,
              "#7201a8"
             ],
             [
              0.3333333333333333,
              "#9c179e"
             ],
             [
              0.4444444444444444,
              "#bd3786"
             ],
             [
              0.5555555555555556,
              "#d8576b"
             ],
             [
              0.6666666666666666,
              "#ed7953"
             ],
             [
              0.7777777777777778,
              "#fb9f3a"
             ],
             [
              0.8888888888888888,
              "#fdca26"
             ],
             [
              1,
              "#f0f921"
             ]
            ],
            "type": "surface"
           }
          ],
          "table": [
           {
            "cells": {
             "fill": {
              "color": "#EBF0F8"
             },
             "line": {
              "color": "white"
             }
            },
            "header": {
             "fill": {
              "color": "#C8D4E3"
             },
             "line": {
              "color": "white"
             }
            },
            "type": "table"
           }
          ]
         },
         "layout": {
          "annotationdefaults": {
           "arrowcolor": "#2a3f5f",
           "arrowhead": 0,
           "arrowwidth": 1
          },
          "autotypenumbers": "strict",
          "coloraxis": {
           "colorbar": {
            "outlinewidth": 0,
            "ticks": ""
           }
          },
          "colorscale": {
           "diverging": [
            [
             0,
             "#8e0152"
            ],
            [
             0.1,
             "#c51b7d"
            ],
            [
             0.2,
             "#de77ae"
            ],
            [
             0.3,
             "#f1b6da"
            ],
            [
             0.4,
             "#fde0ef"
            ],
            [
             0.5,
             "#f7f7f7"
            ],
            [
             0.6,
             "#e6f5d0"
            ],
            [
             0.7,
             "#b8e186"
            ],
            [
             0.8,
             "#7fbc41"
            ],
            [
             0.9,
             "#4d9221"
            ],
            [
             1,
             "#276419"
            ]
           ],
           "sequential": [
            [
             0,
             "#0d0887"
            ],
            [
             0.1111111111111111,
             "#46039f"
            ],
            [
             0.2222222222222222,
             "#7201a8"
            ],
            [
             0.3333333333333333,
             "#9c179e"
            ],
            [
             0.4444444444444444,
             "#bd3786"
            ],
            [
             0.5555555555555556,
             "#d8576b"
            ],
            [
             0.6666666666666666,
             "#ed7953"
            ],
            [
             0.7777777777777778,
             "#fb9f3a"
            ],
            [
             0.8888888888888888,
             "#fdca26"
            ],
            [
             1,
             "#f0f921"
            ]
           ],
           "sequentialminus": [
            [
             0,
             "#0d0887"
            ],
            [
             0.1111111111111111,
             "#46039f"
            ],
            [
             0.2222222222222222,
             "#7201a8"
            ],
            [
             0.3333333333333333,
             "#9c179e"
            ],
            [
             0.4444444444444444,
             "#bd3786"
            ],
            [
             0.5555555555555556,
             "#d8576b"
            ],
            [
             0.6666666666666666,
             "#ed7953"
            ],
            [
             0.7777777777777778,
             "#fb9f3a"
            ],
            [
             0.8888888888888888,
             "#fdca26"
            ],
            [
             1,
             "#f0f921"
            ]
           ]
          },
          "colorway": [
           "#636efa",
           "#EF553B",
           "#00cc96",
           "#ab63fa",
           "#FFA15A",
           "#19d3f3",
           "#FF6692",
           "#B6E880",
           "#FF97FF",
           "#FECB52"
          ],
          "font": {
           "color": "#2a3f5f"
          },
          "geo": {
           "bgcolor": "white",
           "lakecolor": "white",
           "landcolor": "white",
           "showlakes": true,
           "showland": true,
           "subunitcolor": "#C8D4E3"
          },
          "hoverlabel": {
           "align": "left"
          },
          "hovermode": "closest",
          "mapbox": {
           "style": "light"
          },
          "paper_bgcolor": "white",
          "plot_bgcolor": "white",
          "polar": {
           "angularaxis": {
            "gridcolor": "#EBF0F8",
            "linecolor": "#EBF0F8",
            "ticks": ""
           },
           "bgcolor": "white",
           "radialaxis": {
            "gridcolor": "#EBF0F8",
            "linecolor": "#EBF0F8",
            "ticks": ""
           }
          },
          "scene": {
           "xaxis": {
            "backgroundcolor": "white",
            "gridcolor": "#DFE8F3",
            "gridwidth": 2,
            "linecolor": "#EBF0F8",
            "showbackground": true,
            "ticks": "",
            "zerolinecolor": "#EBF0F8"
           },
           "yaxis": {
            "backgroundcolor": "white",
            "gridcolor": "#DFE8F3",
            "gridwidth": 2,
            "linecolor": "#EBF0F8",
            "showbackground": true,
            "ticks": "",
            "zerolinecolor": "#EBF0F8"
           },
           "zaxis": {
            "backgroundcolor": "white",
            "gridcolor": "#DFE8F3",
            "gridwidth": 2,
            "linecolor": "#EBF0F8",
            "showbackground": true,
            "ticks": "",
            "zerolinecolor": "#EBF0F8"
           }
          },
          "shapedefaults": {
           "line": {
            "color": "#2a3f5f"
           }
          },
          "ternary": {
           "aaxis": {
            "gridcolor": "#DFE8F3",
            "linecolor": "#A2B1C6",
            "ticks": ""
           },
           "baxis": {
            "gridcolor": "#DFE8F3",
            "linecolor": "#A2B1C6",
            "ticks": ""
           },
           "bgcolor": "white",
           "caxis": {
            "gridcolor": "#DFE8F3",
            "linecolor": "#A2B1C6",
            "ticks": ""
           }
          },
          "title": {
           "x": 0.05
          },
          "xaxis": {
           "automargin": true,
           "gridcolor": "#EBF0F8",
           "linecolor": "#EBF0F8",
           "ticks": "",
           "title": {
            "standoff": 15
           },
           "zerolinecolor": "#EBF0F8",
           "zerolinewidth": 2
          },
          "yaxis": {
           "automargin": true,
           "gridcolor": "#EBF0F8",
           "linecolor": "#EBF0F8",
           "ticks": "",
           "title": {
            "standoff": 15
           },
           "zerolinecolor": "#EBF0F8",
           "zerolinewidth": 2
          }
         }
        },
        "title": {
         "text": "Percentage of Feminist Movies in Top 5 Movie-Producing Countries (From 1960)"
        },
        "xaxis": {
         "title": {
          "text": "Year"
         }
        },
        "yaxis": {
         "title": {
          "text": "Percentage"
         }
        }
       }
      }
     },
     "metadata": {},
     "output_type": "display_data"
    }
   ],
   "source": [
    "import plotly.graph_objects as go\n",
    "import pandas as pd\n",
    "\n",
    "df = movies_per_country[movies_per_country['Country dictionnaire'].isin(top_5_countries['Country dictionnaire'])]\n",
    "country_labels = dict(zip(top_5_countries['Country dictionnaire'], top_countries_name))\n",
    "fig = go.Figure()\n",
    "\n",
    "for country_code, country_label in country_labels.items():\n",
    "    country_data = df[df['Country dictionnaire'] == country_code]\n",
    "    fig.add_trace(go.Scatter(\n",
    "        x=country_data['Year'],\n",
    "        y=country_data['percentage'],\n",
    "        mode='lines',\n",
    "        name=country_label,\n",
    "        hovertemplate=f\"<b>{country_label}</b><br>Year: {{x}}<br>Percentage: {{y:.2f}}%\"  # Affichage interactif\n",
    "    ))\n",
    "\n",
    "\n",
    "fig.update_layout(\n",
    "    title=\"Percentage of Feminist Movies in Top 5 Movie-Producing Countries (From 1960)\",\n",
    "    xaxis_title=\"Year\",\n",
    "    yaxis_title=\"Percentage\",\n",
    "    legend_title=\"Country\",\n",
    "    template=\"plotly_white\",\n",
    "    hovermode=\"x unified\"\n",
    ")\n",
    "\n",
    "fig.write_html(\"feminist_movies_by_country.html\")\n",
    "\n",
    "fig.show()"
   ]
  },
  {
   "cell_type": "code",
   "execution_count": null,
   "metadata": {},
   "outputs": [
    {
     "data": {
      "application/vnd.plotly.v1+json": {
       "config": {
        "plotlyServerURL": "https://plot.ly"
       },
       "data": [
        {
         "hovertemplate": "top_countries_name=/m/03rk0<br>Year=%{x}<br>Percentage=%{y}<extra></extra>",
         "legendgroup": "/m/03rk0",
         "line": {
          "color": "#636efa",
          "dash": "solid"
         },
         "marker": {
          "symbol": "circle"
         },
         "mode": "lines",
         "name": "/m/03rk0",
         "orientation": "v",
         "showlegend": true,
         "type": "scatter",
         "x": [
          1960,
          1961,
          1962,
          1963,
          1964,
          1965,
          1966,
          1967,
          1968,
          1969,
          1970,
          1971,
          1972,
          1973,
          1974,
          1975,
          1976,
          1977,
          1978,
          1979,
          1980,
          1981,
          1982,
          1983,
          1984,
          1985,
          1986,
          1987,
          1988,
          1989,
          1990,
          1991,
          1992,
          1993,
          1994,
          1995,
          1996,
          1997,
          1998,
          1999,
          2000,
          2001,
          2002,
          2003,
          2004,
          2005,
          2006,
          2007
         ],
         "xaxis": "x",
         "y": [
          0.4,
          0.6666666666666666,
          0.56,
          0.5882352941176471,
          0.6,
          0.5666666666666667,
          0.5,
          0.6071428571428571,
          0.5384615384615384,
          0.52,
          0.6,
          0.5454545454545454,
          0.5,
          0.5151515151515151,
          0.7272727272727273,
          0.5789473684210527,
          0.5833333333333334,
          0.65,
          0.6046511627906976,
          0.5384615384615384,
          0.5625,
          0.54,
          0.4528301886792453,
          0.5294117647058824,
          0.47368421052631576,
          0.5303030303030303,
          0.5833333333333334,
          0.4897959183673469,
          0.4827586206896552,
          0.43243243243243246,
          0.4722222222222222,
          0.5609756097560976,
          0.463768115942029,
          0.5357142857142857,
          0.5373134328358209,
          0.44776119402985076,
          0.5308641975308642,
          0.4367816091954023,
          0.5131578947368421,
          0.5959595959595959,
          0.5514018691588785,
          0.47580645161290325,
          0.5277777777777778,
          0.5266272189349113,
          0.4941860465116279,
          0.6130653266331658,
          0.5124378109452736,
          0.5656108597285068
         ],
         "yaxis": "y"
        },
        {
         "hovertemplate": "top_countries_name=/m/07ssc<br>Year=%{x}<br>Percentage=%{y}<extra></extra>",
         "legendgroup": "/m/07ssc",
         "line": {
          "color": "#EF553B",
          "dash": "solid"
         },
         "marker": {
          "symbol": "circle"
         },
         "mode": "lines",
         "name": "/m/07ssc",
         "orientation": "v",
         "showlegend": true,
         "type": "scatter",
         "x": [
          1960,
          1961,
          1962,
          1963,
          1964,
          1965,
          1966,
          1967,
          1968,
          1969,
          1970,
          1971,
          1972,
          1973,
          1974,
          1975,
          1976,
          1977,
          1978,
          1979,
          1980,
          1981,
          1982,
          1983,
          1984,
          1985,
          1986,
          1987,
          1988,
          1989,
          1990,
          1991,
          1992,
          1993,
          1994,
          1995,
          1996,
          1997,
          1998,
          1999,
          2000,
          2001,
          2002,
          2003,
          2004,
          2005,
          2006,
          2007
         ],
         "xaxis": "x",
         "y": [
          0.4583333333333333,
          0.43243243243243246,
          0.475,
          0.4634146341463415,
          0.5476190476190477,
          0.46808510638297873,
          0.5,
          0.5,
          0.4423076923076923,
          0.6,
          0.45098039215686275,
          0.5098039215686274,
          0.46938775510204084,
          0.37142857142857144,
          0.43902439024390244,
          0.3333333333333333,
          0.46153846153846156,
          0.5333333333333333,
          0.28125,
          0.4411764705882353,
          0.5151515151515151,
          0.16666666666666666,
          0.43478260869565216,
          0.39285714285714285,
          0.5714285714285714,
          0.5277777777777778,
          0.41379310344827586,
          0.4473684210526316,
          0.475,
          0.475,
          0.5365853658536586,
          0.6,
          0.5227272727272727,
          0.5641025641025641,
          0.5833333333333334,
          0.5862068965517241,
          0.4716981132075472,
          0.5846153846153846,
          0.4927536231884058,
          0.48,
          0.49382716049382713,
          0.5584415584415584,
          0.5357142857142857,
          0.5887850467289719,
          0.5511811023622047,
          0.552,
          0.5196850393700787,
          0.5808823529411765
         ],
         "yaxis": "y"
        },
        {
         "hovertemplate": "top_countries_name=/m/09c7w0<br>Year=%{x}<br>Percentage=%{y}<extra></extra>",
         "legendgroup": "/m/09c7w0",
         "line": {
          "color": "#00cc96",
          "dash": "solid"
         },
         "marker": {
          "symbol": "circle"
         },
         "mode": "lines",
         "name": "/m/09c7w0",
         "orientation": "v",
         "showlegend": true,
         "type": "scatter",
         "x": [
          1960,
          1961,
          1962,
          1963,
          1964,
          1965,
          1966,
          1967,
          1968,
          1969,
          1970,
          1971,
          1972,
          1973,
          1974,
          1975,
          1976,
          1977,
          1978,
          1979,
          1980,
          1981,
          1982,
          1983,
          1984,
          1985,
          1986,
          1987,
          1988,
          1989,
          1990,
          1991,
          1992,
          1993,
          1994,
          1995,
          1996,
          1997,
          1998,
          1999,
          2000,
          2001,
          2002,
          2003,
          2004,
          2005,
          2006,
          2007
         ],
         "xaxis": "x",
         "y": [
          0.45,
          0.5137614678899083,
          0.4642857142857143,
          0.44339622641509435,
          0.5853658536585366,
          0.5083333333333333,
          0.43410852713178294,
          0.3798449612403101,
          0.4793388429752066,
          0.38524590163934425,
          0.48175182481751827,
          0.42142857142857143,
          0.4217687074829932,
          0.4405594405594406,
          0.4899328859060403,
          0.45081967213114754,
          0.4485294117647059,
          0.4696969696969697,
          0.5,
          0.5571428571428572,
          0.4782608695652174,
          0.5125,
          0.5260115606936416,
          0.49122807017543857,
          0.46464646464646464,
          0.49537037037037035,
          0.4831932773109244,
          0.4854014598540146,
          0.46366782006920415,
          0.4795539033457249,
          0.4657534246575342,
          0.4626865671641791,
          0.4794007490636704,
          0.40939597315436244,
          0.45588235294117646,
          0.5179153094462541,
          0.5229885057471264,
          0.49184782608695654,
          0.49056603773584906,
          0.4946236559139785,
          0.5012919896640827,
          0.5035971223021583,
          0.5202702702702703,
          0.47368421052631576,
          0.4824561403508772,
          0.5287958115183246,
          0.5,
          0.5352323838080959
         ],
         "yaxis": "y"
        },
        {
         "hovertemplate": "top_countries_name=/m/0d060g<br>Year=%{x}<br>Percentage=%{y}<extra></extra>",
         "legendgroup": "/m/0d060g",
         "line": {
          "color": "#ab63fa",
          "dash": "solid"
         },
         "marker": {
          "symbol": "circle"
         },
         "mode": "lines",
         "name": "/m/0d060g",
         "orientation": "v",
         "showlegend": true,
         "type": "scatter",
         "x": [
          1961,
          1963,
          1964,
          1966,
          1967,
          1968,
          1969,
          1970,
          1971,
          1972,
          1973,
          1974,
          1975,
          1976,
          1977,
          1978,
          1979,
          1980,
          1981,
          1982,
          1983,
          1984,
          1985,
          1986,
          1987,
          1988,
          1989,
          1990,
          1991,
          1992,
          1993,
          1994,
          1995,
          1996,
          1997,
          1998,
          1999,
          2000,
          2001,
          2002,
          2003,
          2004,
          2005,
          2006,
          2007
         ],
         "xaxis": "x",
         "y": [
          0,
          0,
          0,
          1,
          0.5,
          0.5,
          0.6666666666666666,
          0.5,
          0.5,
          0.5,
          0.625,
          0.5454545454545454,
          0.3333333333333333,
          0.5,
          0.6666666666666666,
          0.625,
          0.125,
          0.47368421052631576,
          0.5833333333333334,
          0.375,
          0.2631578947368421,
          0.46153846153846156,
          0.6363636363636364,
          0.4,
          0.4166666666666667,
          0.6470588235294118,
          0.35294117647058826,
          0.5333333333333333,
          0.5454545454545454,
          0.4,
          0.35294117647058826,
          0.631578947368421,
          0.5454545454545454,
          0.4166666666666667,
          0.3684210526315789,
          0.4117647058823529,
          0.6666666666666666,
          0.576271186440678,
          0.5714285714285714,
          0.6463414634146342,
          0.4931506849315068,
          0.5166666666666667,
          0.5070422535211268,
          0.5981308411214953,
          0.5454545454545454
         ],
         "yaxis": "y"
        },
        {
         "hovertemplate": "top_countries_name=/m/0f8l9c<br>Year=%{x}<br>Percentage=%{y}<extra></extra>",
         "legendgroup": "/m/0f8l9c",
         "line": {
          "color": "#FFA15A",
          "dash": "solid"
         },
         "marker": {
          "symbol": "circle"
         },
         "mode": "lines",
         "name": "/m/0f8l9c",
         "orientation": "v",
         "showlegend": true,
         "type": "scatter",
         "x": [
          1960,
          1961,
          1962,
          1963,
          1964,
          1965,
          1966,
          1967,
          1968,
          1969,
          1970,
          1971,
          1972,
          1973,
          1974,
          1975,
          1976,
          1977,
          1978,
          1979,
          1980,
          1981,
          1982,
          1983,
          1984,
          1985,
          1986,
          1987,
          1988,
          1989,
          1990,
          1991,
          1992,
          1993,
          1994,
          1995,
          1996,
          1997,
          1998,
          1999,
          2000,
          2001,
          2002,
          2003,
          2004,
          2005,
          2006,
          2007
         ],
         "xaxis": "x",
         "y": [
          0.7058823529411765,
          0.6666666666666666,
          0.7619047619047619,
          0.5555555555555556,
          0.5555555555555556,
          0.4782608695652174,
          0.4,
          0.44,
          0.4782608695652174,
          0.4583333333333333,
          0.5882352941176471,
          0.6521739130434783,
          0.45454545454545453,
          0.5483870967741935,
          0.5789473684210527,
          0.7222222222222222,
          0.4782608695652174,
          0.625,
          0.8,
          0.5714285714285714,
          0.7142857142857143,
          0.6,
          0.5454545454545454,
          0.5,
          0.6666666666666666,
          0.5925925925925926,
          0.6190476190476191,
          0.7222222222222222,
          0.5185185185185185,
          0.5625,
          0.5416666666666666,
          0.6333333333333333,
          0.53125,
          0.5483870967741935,
          0.6444444444444445,
          0.46511627906976744,
          0.6176470588235294,
          0.6046511627906976,
          0.5576923076923077,
          0.4888888888888889,
          0.6166666666666667,
          0.6557377049180327,
          0.5975609756097561,
          0.6231884057971014,
          0.6463414634146342,
          0.4805194805194805,
          0.5180722891566265,
          0.673469387755102
         ],
         "yaxis": "y"
        }
       ],
       "layout": {
        "legend": {
         "title": {
          "text": "Country"
         },
         "tracegroupgap": 0
        },
        "template": {
         "data": {
          "bar": [
           {
            "error_x": {
             "color": "#2a3f5f"
            },
            "error_y": {
             "color": "#2a3f5f"
            },
            "marker": {
             "line": {
              "color": "white",
              "width": 0.5
             },
             "pattern": {
              "fillmode": "overlay",
              "size": 10,
              "solidity": 0.2
             }
            },
            "type": "bar"
           }
          ],
          "barpolar": [
           {
            "marker": {
             "line": {
              "color": "white",
              "width": 0.5
             },
             "pattern": {
              "fillmode": "overlay",
              "size": 10,
              "solidity": 0.2
             }
            },
            "type": "barpolar"
           }
          ],
          "carpet": [
           {
            "aaxis": {
             "endlinecolor": "#2a3f5f",
             "gridcolor": "#C8D4E3",
             "linecolor": "#C8D4E3",
             "minorgridcolor": "#C8D4E3",
             "startlinecolor": "#2a3f5f"
            },
            "baxis": {
             "endlinecolor": "#2a3f5f",
             "gridcolor": "#C8D4E3",
             "linecolor": "#C8D4E3",
             "minorgridcolor": "#C8D4E3",
             "startlinecolor": "#2a3f5f"
            },
            "type": "carpet"
           }
          ],
          "choropleth": [
           {
            "colorbar": {
             "outlinewidth": 0,
             "ticks": ""
            },
            "type": "choropleth"
           }
          ],
          "contour": [
           {
            "colorbar": {
             "outlinewidth": 0,
             "ticks": ""
            },
            "colorscale": [
             [
              0,
              "#0d0887"
             ],
             [
              0.1111111111111111,
              "#46039f"
             ],
             [
              0.2222222222222222,
              "#7201a8"
             ],
             [
              0.3333333333333333,
              "#9c179e"
             ],
             [
              0.4444444444444444,
              "#bd3786"
             ],
             [
              0.5555555555555556,
              "#d8576b"
             ],
             [
              0.6666666666666666,
              "#ed7953"
             ],
             [
              0.7777777777777778,
              "#fb9f3a"
             ],
             [
              0.8888888888888888,
              "#fdca26"
             ],
             [
              1,
              "#f0f921"
             ]
            ],
            "type": "contour"
           }
          ],
          "contourcarpet": [
           {
            "colorbar": {
             "outlinewidth": 0,
             "ticks": ""
            },
            "type": "contourcarpet"
           }
          ],
          "heatmap": [
           {
            "colorbar": {
             "outlinewidth": 0,
             "ticks": ""
            },
            "colorscale": [
             [
              0,
              "#0d0887"
             ],
             [
              0.1111111111111111,
              "#46039f"
             ],
             [
              0.2222222222222222,
              "#7201a8"
             ],
             [
              0.3333333333333333,
              "#9c179e"
             ],
             [
              0.4444444444444444,
              "#bd3786"
             ],
             [
              0.5555555555555556,
              "#d8576b"
             ],
             [
              0.6666666666666666,
              "#ed7953"
             ],
             [
              0.7777777777777778,
              "#fb9f3a"
             ],
             [
              0.8888888888888888,
              "#fdca26"
             ],
             [
              1,
              "#f0f921"
             ]
            ],
            "type": "heatmap"
           }
          ],
          "heatmapgl": [
           {
            "colorbar": {
             "outlinewidth": 0,
             "ticks": ""
            },
            "colorscale": [
             [
              0,
              "#0d0887"
             ],
             [
              0.1111111111111111,
              "#46039f"
             ],
             [
              0.2222222222222222,
              "#7201a8"
             ],
             [
              0.3333333333333333,
              "#9c179e"
             ],
             [
              0.4444444444444444,
              "#bd3786"
             ],
             [
              0.5555555555555556,
              "#d8576b"
             ],
             [
              0.6666666666666666,
              "#ed7953"
             ],
             [
              0.7777777777777778,
              "#fb9f3a"
             ],
             [
              0.8888888888888888,
              "#fdca26"
             ],
             [
              1,
              "#f0f921"
             ]
            ],
            "type": "heatmapgl"
           }
          ],
          "histogram": [
           {
            "marker": {
             "pattern": {
              "fillmode": "overlay",
              "size": 10,
              "solidity": 0.2
             }
            },
            "type": "histogram"
           }
          ],
          "histogram2d": [
           {
            "colorbar": {
             "outlinewidth": 0,
             "ticks": ""
            },
            "colorscale": [
             [
              0,
              "#0d0887"
             ],
             [
              0.1111111111111111,
              "#46039f"
             ],
             [
              0.2222222222222222,
              "#7201a8"
             ],
             [
              0.3333333333333333,
              "#9c179e"
             ],
             [
              0.4444444444444444,
              "#bd3786"
             ],
             [
              0.5555555555555556,
              "#d8576b"
             ],
             [
              0.6666666666666666,
              "#ed7953"
             ],
             [
              0.7777777777777778,
              "#fb9f3a"
             ],
             [
              0.8888888888888888,
              "#fdca26"
             ],
             [
              1,
              "#f0f921"
             ]
            ],
            "type": "histogram2d"
           }
          ],
          "histogram2dcontour": [
           {
            "colorbar": {
             "outlinewidth": 0,
             "ticks": ""
            },
            "colorscale": [
             [
              0,
              "#0d0887"
             ],
             [
              0.1111111111111111,
              "#46039f"
             ],
             [
              0.2222222222222222,
              "#7201a8"
             ],
             [
              0.3333333333333333,
              "#9c179e"
             ],
             [
              0.4444444444444444,
              "#bd3786"
             ],
             [
              0.5555555555555556,
              "#d8576b"
             ],
             [
              0.6666666666666666,
              "#ed7953"
             ],
             [
              0.7777777777777778,
              "#fb9f3a"
             ],
             [
              0.8888888888888888,
              "#fdca26"
             ],
             [
              1,
              "#f0f921"
             ]
            ],
            "type": "histogram2dcontour"
           }
          ],
          "mesh3d": [
           {
            "colorbar": {
             "outlinewidth": 0,
             "ticks": ""
            },
            "type": "mesh3d"
           }
          ],
          "parcoords": [
           {
            "line": {
             "colorbar": {
              "outlinewidth": 0,
              "ticks": ""
             }
            },
            "type": "parcoords"
           }
          ],
          "pie": [
           {
            "automargin": true,
            "type": "pie"
           }
          ],
          "scatter": [
           {
            "fillpattern": {
             "fillmode": "overlay",
             "size": 10,
             "solidity": 0.2
            },
            "type": "scatter"
           }
          ],
          "scatter3d": [
           {
            "line": {
             "colorbar": {
              "outlinewidth": 0,
              "ticks": ""
             }
            },
            "marker": {
             "colorbar": {
              "outlinewidth": 0,
              "ticks": ""
             }
            },
            "type": "scatter3d"
           }
          ],
          "scattercarpet": [
           {
            "marker": {
             "colorbar": {
              "outlinewidth": 0,
              "ticks": ""
             }
            },
            "type": "scattercarpet"
           }
          ],
          "scattergeo": [
           {
            "marker": {
             "colorbar": {
              "outlinewidth": 0,
              "ticks": ""
             }
            },
            "type": "scattergeo"
           }
          ],
          "scattergl": [
           {
            "marker": {
             "colorbar": {
              "outlinewidth": 0,
              "ticks": ""
             }
            },
            "type": "scattergl"
           }
          ],
          "scattermapbox": [
           {
            "marker": {
             "colorbar": {
              "outlinewidth": 0,
              "ticks": ""
             }
            },
            "type": "scattermapbox"
           }
          ],
          "scatterpolar": [
           {
            "marker": {
             "colorbar": {
              "outlinewidth": 0,
              "ticks": ""
             }
            },
            "type": "scatterpolar"
           }
          ],
          "scatterpolargl": [
           {
            "marker": {
             "colorbar": {
              "outlinewidth": 0,
              "ticks": ""
             }
            },
            "type": "scatterpolargl"
           }
          ],
          "scatterternary": [
           {
            "marker": {
             "colorbar": {
              "outlinewidth": 0,
              "ticks": ""
             }
            },
            "type": "scatterternary"
           }
          ],
          "surface": [
           {
            "colorbar": {
             "outlinewidth": 0,
             "ticks": ""
            },
            "colorscale": [
             [
              0,
              "#0d0887"
             ],
             [
              0.1111111111111111,
              "#46039f"
             ],
             [
              0.2222222222222222,
              "#7201a8"
             ],
             [
              0.3333333333333333,
              "#9c179e"
             ],
             [
              0.4444444444444444,
              "#bd3786"
             ],
             [
              0.5555555555555556,
              "#d8576b"
             ],
             [
              0.6666666666666666,
              "#ed7953"
             ],
             [
              0.7777777777777778,
              "#fb9f3a"
             ],
             [
              0.8888888888888888,
              "#fdca26"
             ],
             [
              1,
              "#f0f921"
             ]
            ],
            "type": "surface"
           }
          ],
          "table": [
           {
            "cells": {
             "fill": {
              "color": "#EBF0F8"
             },
             "line": {
              "color": "white"
             }
            },
            "header": {
             "fill": {
              "color": "#C8D4E3"
             },
             "line": {
              "color": "white"
             }
            },
            "type": "table"
           }
          ]
         },
         "layout": {
          "annotationdefaults": {
           "arrowcolor": "#2a3f5f",
           "arrowhead": 0,
           "arrowwidth": 1
          },
          "autotypenumbers": "strict",
          "coloraxis": {
           "colorbar": {
            "outlinewidth": 0,
            "ticks": ""
           }
          },
          "colorscale": {
           "diverging": [
            [
             0,
             "#8e0152"
            ],
            [
             0.1,
             "#c51b7d"
            ],
            [
             0.2,
             "#de77ae"
            ],
            [
             0.3,
             "#f1b6da"
            ],
            [
             0.4,
             "#fde0ef"
            ],
            [
             0.5,
             "#f7f7f7"
            ],
            [
             0.6,
             "#e6f5d0"
            ],
            [
             0.7,
             "#b8e186"
            ],
            [
             0.8,
             "#7fbc41"
            ],
            [
             0.9,
             "#4d9221"
            ],
            [
             1,
             "#276419"
            ]
           ],
           "sequential": [
            [
             0,
             "#0d0887"
            ],
            [
             0.1111111111111111,
             "#46039f"
            ],
            [
             0.2222222222222222,
             "#7201a8"
            ],
            [
             0.3333333333333333,
             "#9c179e"
            ],
            [
             0.4444444444444444,
             "#bd3786"
            ],
            [
             0.5555555555555556,
             "#d8576b"
            ],
            [
             0.6666666666666666,
             "#ed7953"
            ],
            [
             0.7777777777777778,
             "#fb9f3a"
            ],
            [
             0.8888888888888888,
             "#fdca26"
            ],
            [
             1,
             "#f0f921"
            ]
           ],
           "sequentialminus": [
            [
             0,
             "#0d0887"
            ],
            [
             0.1111111111111111,
             "#46039f"
            ],
            [
             0.2222222222222222,
             "#7201a8"
            ],
            [
             0.3333333333333333,
             "#9c179e"
            ],
            [
             0.4444444444444444,
             "#bd3786"
            ],
            [
             0.5555555555555556,
             "#d8576b"
            ],
            [
             0.6666666666666666,
             "#ed7953"
            ],
            [
             0.7777777777777778,
             "#fb9f3a"
            ],
            [
             0.8888888888888888,
             "#fdca26"
            ],
            [
             1,
             "#f0f921"
            ]
           ]
          },
          "colorway": [
           "#636efa",
           "#EF553B",
           "#00cc96",
           "#ab63fa",
           "#FFA15A",
           "#19d3f3",
           "#FF6692",
           "#B6E880",
           "#FF97FF",
           "#FECB52"
          ],
          "font": {
           "color": "#2a3f5f"
          },
          "geo": {
           "bgcolor": "white",
           "lakecolor": "white",
           "landcolor": "white",
           "showlakes": true,
           "showland": true,
           "subunitcolor": "#C8D4E3"
          },
          "hoverlabel": {
           "align": "left"
          },
          "hovermode": "closest",
          "mapbox": {
           "style": "light"
          },
          "paper_bgcolor": "white",
          "plot_bgcolor": "white",
          "polar": {
           "angularaxis": {
            "gridcolor": "#EBF0F8",
            "linecolor": "#EBF0F8",
            "ticks": ""
           },
           "bgcolor": "white",
           "radialaxis": {
            "gridcolor": "#EBF0F8",
            "linecolor": "#EBF0F8",
            "ticks": ""
           }
          },
          "scene": {
           "xaxis": {
            "backgroundcolor": "white",
            "gridcolor": "#DFE8F3",
            "gridwidth": 2,
            "linecolor": "#EBF0F8",
            "showbackground": true,
            "ticks": "",
            "zerolinecolor": "#EBF0F8"
           },
           "yaxis": {
            "backgroundcolor": "white",
            "gridcolor": "#DFE8F3",
            "gridwidth": 2,
            "linecolor": "#EBF0F8",
            "showbackground": true,
            "ticks": "",
            "zerolinecolor": "#EBF0F8"
           },
           "zaxis": {
            "backgroundcolor": "white",
            "gridcolor": "#DFE8F3",
            "gridwidth": 2,
            "linecolor": "#EBF0F8",
            "showbackground": true,
            "ticks": "",
            "zerolinecolor": "#EBF0F8"
           }
          },
          "shapedefaults": {
           "line": {
            "color": "#2a3f5f"
           }
          },
          "ternary": {
           "aaxis": {
            "gridcolor": "#DFE8F3",
            "linecolor": "#A2B1C6",
            "ticks": ""
           },
           "baxis": {
            "gridcolor": "#DFE8F3",
            "linecolor": "#A2B1C6",
            "ticks": ""
           },
           "bgcolor": "white",
           "caxis": {
            "gridcolor": "#DFE8F3",
            "linecolor": "#A2B1C6",
            "ticks": ""
           }
          },
          "title": {
           "x": 0.05
          },
          "xaxis": {
           "automargin": true,
           "gridcolor": "#EBF0F8",
           "linecolor": "#EBF0F8",
           "ticks": "",
           "title": {
            "standoff": 15
           },
           "zerolinecolor": "#EBF0F8",
           "zerolinewidth": 2
          },
          "yaxis": {
           "automargin": true,
           "gridcolor": "#EBF0F8",
           "linecolor": "#EBF0F8",
           "ticks": "",
           "title": {
            "standoff": 15
           },
           "zerolinecolor": "#EBF0F8",
           "zerolinewidth": 2
          }
         }
        },
        "title": {
         "font": {
          "size": 16
         },
         "text": "Percentage of Feminist Movies in Top 5 Movie-Producing Countries (From 1960)"
        },
        "xaxis": {
         "anchor": "y",
         "domain": [
          0,
          1
         ],
         "title": {
          "text": "Year"
         }
        },
        "yaxis": {
         "anchor": "x",
         "domain": [
          0,
          1
         ],
         "title": {
          "text": "Percentage"
         }
        }
       }
      }
     },
     "metadata": {},
     "output_type": "display_data"
    }
   ],
   "source": [
    "df = movies_per_country[movies_per_country['Country dictionnaire'].isin(top_5_countries['Country dictionnaire'])]\n",
    "\n",
    "fig = px.line(\n",
    "    df,\n",
    "    x=\"Year\",\n",
    "    y=\"percentage\",\n",
    "    color=\"Country dictionnaire\",\n",
    "    labels={\"Year\": \"Year\", \"percentage\": \"Percentage\", \"Country dictionnaire\": \"Country\"},\n",
    "    title=\"Percentage of Feminist Movies in Top 5 Movie-Producing Countries (From 1960)\"\n",
    ")\n",
    "\n",
    "fig.update_layout(\n",
    "    title_font_size=16,\n",
    "    xaxis_title=\"Year\",\n",
    "    yaxis_title=\"Percentage\",\n",
    "    legend_title=\"Country\",\n",
    "    template=\"plotly_white\"\n",
    ")\n",
    "\n",
    "fig.write_html(\"feminist_movies_by_country.html\")\n",
    "\n",
    "fig.show()"
   ]
  }
 ],
 "metadata": {
  "kernelspec": {
   "display_name": "env1",
   "language": "python",
   "name": "python3"
  },
  "language_info": {
   "codemirror_mode": {
    "name": "ipython",
    "version": 3
   },
   "file_extension": ".py",
   "mimetype": "text/x-python",
   "name": "python",
   "nbconvert_exporter": "python",
   "pygments_lexer": "ipython3",
   "version": "3.11.10"
  }
 },
 "nbformat": 4,
 "nbformat_minor": 2
}
